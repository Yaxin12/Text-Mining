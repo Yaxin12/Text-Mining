{
  "nbformat": 4,
  "nbformat_minor": 0,
  "metadata": {
    "colab": {
      "provenance": []
    },
    "kernelspec": {
      "name": "python3",
      "display_name": "Python 3"
    },
    "language_info": {
      "name": "python"
    }
  },
  "cells": [
    {
      "cell_type": "markdown",
      "source": [
        "### **1. Comprehension**"
      ],
      "metadata": {
        "id": "NyESW6mwGgai"
      }
    },
    {
      "cell_type": "code",
      "execution_count": 1,
      "metadata": {
        "colab": {
          "base_uri": "https://localhost:8080/"
        },
        "id": "lVLANsN0GGIb",
        "outputId": "3ecb96e4-8434-47b0-d964-248fbfdbdb50"
      },
      "outputs": [
        {
          "output_type": "execute_result",
          "data": {
            "text/plain": [
              "[2, 4, 6, 8, 10]"
            ]
          },
          "metadata": {},
          "execution_count": 1
        }
      ],
      "source": [
        "old_list = [1, 2, 3, 4, 5]\n",
        "new_list = []\n",
        "for i in old_list:\n",
        "  new_list.append(i*2)\n",
        "new_list"
      ]
    },
    {
      "cell_type": "code",
      "source": [
        "# short code\n",
        "[i*2 for i in old_list]"
      ],
      "metadata": {
        "colab": {
          "base_uri": "https://localhost:8080/"
        },
        "id": "9jhBTsY1HMlo",
        "outputId": "fc9a91f9-b327-47a2-8348-2a4675363f7c"
      },
      "execution_count": 2,
      "outputs": [
        {
          "output_type": "execute_result",
          "data": {
            "text/plain": [
              "[2, 4, 6, 8, 10]"
            ]
          },
          "metadata": {},
          "execution_count": 2
        }
      ]
    },
    {
      "cell_type": "markdown",
      "source": [
        "using an if-statement in a comprehension"
      ],
      "metadata": {
        "id": "gOk3_xf-H8VS"
      }
    },
    {
      "cell_type": "code",
      "source": [
        "old_list = [1, 2, 3, 4, 5]\n",
        "new_list = []\n",
        "for i in old_list:\n",
        "  if i % 2 ==0:\n",
        "      new_list.append(i*2)\n",
        "new_list"
      ],
      "metadata": {
        "colab": {
          "base_uri": "https://localhost:8080/"
        },
        "id": "RRsfvOIfIBv6",
        "outputId": "5e9f0a11-1652-44b8-f98b-e0ca6825ff71"
      },
      "execution_count": 3,
      "outputs": [
        {
          "output_type": "execute_result",
          "data": {
            "text/plain": [
              "[4, 8]"
            ]
          },
          "metadata": {},
          "execution_count": 3
        }
      ]
    },
    {
      "cell_type": "code",
      "source": [
        "# short code\n",
        "[i*2 for i in old_list if i % 2 ==0]"
      ],
      "metadata": {
        "colab": {
          "base_uri": "https://localhost:8080/"
        },
        "id": "GIyNKiB8IPY-",
        "outputId": "6fdff51d-aeab-4c98-c853-4638541b9d0b"
      },
      "execution_count": 4,
      "outputs": [
        {
          "output_type": "execute_result",
          "data": {
            "text/plain": [
              "[4, 8]"
            ]
          },
          "metadata": {},
          "execution_count": 4
        }
      ]
    },
    {
      "cell_type": "markdown",
      "source": [
        " use an if to calculate values"
      ],
      "metadata": {
        "id": "HIdnmIt9IWWL"
      }
    },
    {
      "cell_type": "code",
      "source": [
        "old_list = [1, 2, 3, 4, 5]\n",
        "new_list = []\n",
        "for i in old_list:\n",
        "      new_list.append(i*2 if i > 3 else i * 3)\n",
        "new_list"
      ],
      "metadata": {
        "colab": {
          "base_uri": "https://localhost:8080/"
        },
        "id": "S6KZd8SvIUAg",
        "outputId": "81ce0943-9e28-4b3a-ab90-b99105f9d6ca"
      },
      "execution_count": 5,
      "outputs": [
        {
          "output_type": "execute_result",
          "data": {
            "text/plain": [
              "[3, 6, 9, 8, 10]"
            ]
          },
          "metadata": {},
          "execution_count": 5
        }
      ]
    },
    {
      "cell_type": "code",
      "source": [
        "#short code\n",
        "[i*2 if i > 3 else i *3 for i in old_list]"
      ],
      "metadata": {
        "colab": {
          "base_uri": "https://localhost:8080/"
        },
        "id": "_0zitYufIlQ6",
        "outputId": "05220399-0dee-4519-d792-7175c869090b"
      },
      "execution_count": 10,
      "outputs": [
        {
          "output_type": "execute_result",
          "data": {
            "text/plain": [
              "[3, 6, 9, 8, 10]"
            ]
          },
          "metadata": {},
          "execution_count": 10
        }
      ]
    },
    {
      "cell_type": "markdown",
      "source": [
        "Combine"
      ],
      "metadata": {
        "id": "GZ7EpQnmI4uJ"
      }
    },
    {
      "cell_type": "code",
      "source": [
        "old_list = [1, 2, 3, 4, 5]\n",
        "new_list = []\n",
        "for i in old_list:\n",
        "  if i % 2 == 0:\n",
        "      new_list.append(i*2 if i > 3 else i * 3)\n",
        "new_list"
      ],
      "metadata": {
        "colab": {
          "base_uri": "https://localhost:8080/"
        },
        "id": "h3lbLMn9I6mx",
        "outputId": "c6bbe03e-c31b-4f55-9e73-224350f597e5"
      },
      "execution_count": 9,
      "outputs": [
        {
          "output_type": "execute_result",
          "data": {
            "text/plain": [
              "[6, 8]"
            ]
          },
          "metadata": {},
          "execution_count": 9
        }
      ]
    },
    {
      "cell_type": "code",
      "source": [
        "#short code\n",
        "[i*2 if i > 3 else i *3 for i in old_list if i % 2 == 0]"
      ],
      "metadata": {
        "colab": {
          "base_uri": "https://localhost:8080/"
        },
        "id": "GrkVkPT0JFqQ",
        "outputId": "e2fa3b66-4adb-457d-a6ed-308ac3b48612"
      },
      "execution_count": 11,
      "outputs": [
        {
          "output_type": "execute_result",
          "data": {
            "text/plain": [
              "[6, 8]"
            ]
          },
          "metadata": {},
          "execution_count": 11
        }
      ]
    },
    {
      "cell_type": "markdown",
      "source": [
        "Enumerate"
      ],
      "metadata": {
        "id": "FBtAuLGBKP-r"
      }
    },
    {
      "cell_type": "code",
      "source": [
        "old_lists = 'abcde'\n",
        "new_lists = []\n",
        "for i in range(len(old_lists)):\n",
        "  if i % 2 == 0:\n",
        "    new_lists.append(old_lists[i])\n",
        "new_lists"
      ],
      "metadata": {
        "colab": {
          "base_uri": "https://localhost:8080/"
        },
        "id": "GWA-sOaiKTB6",
        "outputId": "76eb81bc-0c8f-412f-90f9-7b28fe2eb120"
      },
      "execution_count": 14,
      "outputs": [
        {
          "output_type": "execute_result",
          "data": {
            "text/plain": [
              "['a', 'c', 'e']"
            ]
          },
          "metadata": {},
          "execution_count": 14
        }
      ]
    },
    {
      "cell_type": "code",
      "source": [
        "# enumerate\n",
        "for tup in enumerate('abcde'):\n",
        "  print(tup)"
      ],
      "metadata": {
        "colab": {
          "base_uri": "https://localhost:8080/"
        },
        "id": "aJy2OKrQK1gN",
        "outputId": "60bf884a-346d-47ea-c95d-d7b1b30852fc"
      },
      "execution_count": 20,
      "outputs": [
        {
          "output_type": "stream",
          "name": "stdout",
          "text": [
            "(0, 'a')\n",
            "(1, 'b')\n",
            "(2, 'c')\n",
            "(3, 'd')\n",
            "(4, 'e')\n"
          ]
        }
      ]
    },
    {
      "cell_type": "code",
      "source": [
        "for tup, index in enumerate('abced'):\n",
        "  print(index)"
      ],
      "metadata": {
        "colab": {
          "base_uri": "https://localhost:8080/"
        },
        "id": "oFgubDR3Ldew",
        "outputId": "241c48ab-ea05-4406-ed80-7c882800b5f9"
      },
      "execution_count": 21,
      "outputs": [
        {
          "output_type": "stream",
          "name": "stdout",
          "text": [
            "a\n",
            "b\n",
            "c\n",
            "e\n",
            "d\n"
          ]
        }
      ]
    },
    {
      "cell_type": "code",
      "source": [
        "[index for tup, index in enumerate('abcde') if tup % 2 == 0]\n",
        "# index is what we want to calculate, tup and index is the names of the items"
      ],
      "metadata": {
        "colab": {
          "base_uri": "https://localhost:8080/"
        },
        "id": "whO36cYFLtaS",
        "outputId": "63b8c640-16e1-4f55-9345-1c05d0bf86eb"
      },
      "execution_count": 24,
      "outputs": [
        {
          "output_type": "execute_result",
          "data": {
            "text/plain": [
              "['a', 'c', 'e']"
            ]
          },
          "metadata": {},
          "execution_count": 24
        }
      ]
    },
    {
      "cell_type": "code",
      "source": [
        "old_list_1 = 'abcde'\n",
        "new_list_1 = []\n",
        "for i, c in enumerate(old_list_1):\n",
        "  if i % 2 == 0:\n",
        "    if c in 'aeuio':\n",
        "      char = c.upper()\n",
        "    else:\n",
        "      char = c\n",
        "    new_list_1.append(char)\n",
        "new_list_1"
      ],
      "metadata": {
        "colab": {
          "base_uri": "https://localhost:8080/"
        },
        "id": "UNgsr4BHRATr",
        "outputId": "25ddc566-3e00-45d1-a9ca-4c716fd3b29b"
      },
      "execution_count": 27,
      "outputs": [
        {
          "output_type": "execute_result",
          "data": {
            "text/plain": [
              "['A', 'c', 'E']"
            ]
          },
          "metadata": {},
          "execution_count": 27
        }
      ]
    },
    {
      "cell_type": "code",
      "source": [
        "[c.upper() if c in 'aeuio' else c\n",
        " for i, c in enumerate(old_list_1)\n",
        " if i % 2 == 0]"
      ],
      "metadata": {
        "colab": {
          "base_uri": "https://localhost:8080/"
        },
        "id": "85M5exXSSGB0",
        "outputId": "4c2925bc-35d2-4231-ecac-a7c76ebcd9d4"
      },
      "execution_count": 28,
      "outputs": [
        {
          "output_type": "execute_result",
          "data": {
            "text/plain": [
              "['A', 'c', 'E']"
            ]
          },
          "metadata": {},
          "execution_count": 28
        }
      ]
    },
    {
      "cell_type": "markdown",
      "source": [
        "Nested"
      ],
      "metadata": {
        "id": "UXutFScgTI5k"
      }
    },
    {
      "cell_type": "code",
      "source": [
        "for i in range(5):\n",
        "  for j in range(i):\n",
        "    print((i, j))"
      ],
      "metadata": {
        "colab": {
          "base_uri": "https://localhost:8080/"
        },
        "id": "BXBR-oE4ToCx",
        "outputId": "ef0d37b8-53db-4326-a9ba-f1b3215e9894"
      },
      "execution_count": 31,
      "outputs": [
        {
          "output_type": "stream",
          "name": "stdout",
          "text": [
            "(1, 0)\n",
            "(2, 0)\n",
            "(2, 1)\n",
            "(3, 0)\n",
            "(3, 1)\n",
            "(3, 2)\n",
            "(4, 0)\n",
            "(4, 1)\n",
            "(4, 2)\n",
            "(4, 3)\n"
          ]
        }
      ]
    },
    {
      "cell_type": "code",
      "source": [
        "for i in range(5):\n",
        "  if i > 2:\n",
        "    for j in range(i):\n",
        "      if j < 2:\n",
        "        print((i, j))"
      ],
      "metadata": {
        "colab": {
          "base_uri": "https://localhost:8080/"
        },
        "id": "k2jDxI3gTK08",
        "outputId": "34adbb95-58cd-43eb-cc1a-39d190c5a645"
      },
      "execution_count": 29,
      "outputs": [
        {
          "output_type": "stream",
          "name": "stdout",
          "text": [
            "(3, 0)\n",
            "(3, 1)\n",
            "(4, 0)\n",
            "(4, 1)\n"
          ]
        }
      ]
    },
    {
      "cell_type": "code",
      "source": [
        "[(i, j) for i in range(5) if i > 2 for j in range(i) if j < 2]"
      ],
      "metadata": {
        "colab": {
          "base_uri": "https://localhost:8080/"
        },
        "id": "TFx_tbphTXx0",
        "outputId": "6e5f41b0-3af0-428e-e0d9-1b9f1a971676"
      },
      "execution_count": 30,
      "outputs": [
        {
          "output_type": "execute_result",
          "data": {
            "text/plain": [
              "[(3, 0), (3, 1), (4, 0), (4, 1)]"
            ]
          },
          "metadata": {},
          "execution_count": 30
        }
      ]
    },
    {
      "cell_type": "markdown",
      "source": [
        "dic"
      ],
      "metadata": {
        "id": "UzL2RSEzUcRz"
      }
    },
    {
      "cell_type": "code",
      "source": [
        "[c for i, c in enumerate('abceabce') if i < 5]"
      ],
      "metadata": {
        "colab": {
          "base_uri": "https://localhost:8080/"
        },
        "id": "EY-yTBQYT5DA",
        "outputId": "db403585-37b8-4bec-8664-70c4ed0ac4af"
      },
      "execution_count": 32,
      "outputs": [
        {
          "output_type": "execute_result",
          "data": {
            "text/plain": [
              "['a', 'b', 'c', 'e', 'a']"
            ]
          },
          "metadata": {},
          "execution_count": 32
        }
      ]
    },
    {
      "cell_type": "code",
      "source": [
        "{c for i, c in enumerate('abceabce') if i < 5}"
      ],
      "metadata": {
        "colab": {
          "base_uri": "https://localhost:8080/"
        },
        "id": "mrsvrF6XUoTg",
        "outputId": "98e3283b-a0cc-4326-d70b-a2efe8b7664b"
      },
      "execution_count": 37,
      "outputs": [
        {
          "output_type": "execute_result",
          "data": {
            "text/plain": [
              "{'a', 'b', 'c', 'e'}"
            ]
          },
          "metadata": {},
          "execution_count": 37
        }
      ]
    },
    {
      "cell_type": "markdown",
      "source": [
        "Sets in Python contain unique elements, so duplicates are removed. The resulting set contains the unique characters at indices 0, 1, 2, 3, and 4. So the output is {'a', 'b', 'c', 'e'}"
      ],
      "metadata": {
        "id": "8mmAT4kwV_Tb"
      }
    },
    {
      "cell_type": "code",
      "source": [
        "tuple(c for i, c in enumerate('abceabce'))"
      ],
      "metadata": {
        "colab": {
          "base_uri": "https://localhost:8080/"
        },
        "id": "b0oTKDZnUsCY",
        "outputId": "c82d5fe9-5855-4820-905d-ef6a452d3a6f"
      },
      "execution_count": 34,
      "outputs": [
        {
          "output_type": "execute_result",
          "data": {
            "text/plain": [
              "('a', 'b', 'c', 'e', 'a', 'b', 'c', 'e')"
            ]
          },
          "metadata": {},
          "execution_count": 34
        }
      ]
    },
    {
      "cell_type": "code",
      "source": [
        "{i: c for i, c in enumerate('abceabce') if i < 5}"
      ],
      "metadata": {
        "colab": {
          "base_uri": "https://localhost:8080/"
        },
        "id": "Fu28TbkxU7oZ",
        "outputId": "8f801630-17e1-4750-cd21-8d6fd73d0bc9"
      },
      "execution_count": 35,
      "outputs": [
        {
          "output_type": "execute_result",
          "data": {
            "text/plain": [
              "{0: 'a', 1: 'b', 2: 'c', 3: 'e', 4: 'a'}"
            ]
          },
          "metadata": {},
          "execution_count": 35
        }
      ]
    },
    {
      "cell_type": "code",
      "source": [
        "arr = [('a', 1), ('b', 2), ('c', 2)]\n",
        "for idx, (char, i) in enumerate(arr):\n",
        "    print(idx, char, i)"
      ],
      "metadata": {
        "colab": {
          "base_uri": "https://localhost:8080/"
        },
        "id": "soE0hpKyWCRk",
        "outputId": "46f53a5f-1272-4f91-b9b7-a5044bc28489"
      },
      "execution_count": 38,
      "outputs": [
        {
          "output_type": "stream",
          "name": "stdout",
          "text": [
            "0 a 1\n",
            "1 b 2\n",
            "2 c 2\n"
          ]
        }
      ]
    },
    {
      "cell_type": "code",
      "source": [
        "[{key: value, 'i': idx} for idx, (key, value) in enumerate(arr)]"
      ],
      "metadata": {
        "colab": {
          "base_uri": "https://localhost:8080/"
        },
        "id": "dYnBL44yYaq6",
        "outputId": "904c37a3-39a5-40d5-9096-d2cdefd3b5af"
      },
      "execution_count": 39,
      "outputs": [
        {
          "output_type": "execute_result",
          "data": {
            "text/plain": [
              "[{'a': 1, 'i': 0}, {'b': 2, 'i': 1}, {'c': 2, 'i': 2}]"
            ]
          },
          "metadata": {},
          "execution_count": 39
        }
      ]
    },
    {
      "cell_type": "code",
      "source": [
        "d = {'a': 1, 'b': 2, 'c': 3}"
      ],
      "metadata": {
        "id": "GiKLFm11ZO5O"
      },
      "execution_count": 40,
      "outputs": []
    },
    {
      "cell_type": "code",
      "source": [
        "d.keys()"
      ],
      "metadata": {
        "colab": {
          "base_uri": "https://localhost:8080/"
        },
        "id": "3do09b-1ZQ0Q",
        "outputId": "c06ec835-4a34-464d-b24e-e2872f227164"
      },
      "execution_count": 41,
      "outputs": [
        {
          "output_type": "execute_result",
          "data": {
            "text/plain": [
              "dict_keys(['a', 'b', 'c'])"
            ]
          },
          "metadata": {},
          "execution_count": 41
        }
      ]
    },
    {
      "cell_type": "code",
      "source": [
        "for k, i in d.items():\n",
        "  print((k, i))"
      ],
      "metadata": {
        "colab": {
          "base_uri": "https://localhost:8080/"
        },
        "id": "Wd2woMo8ZXP9",
        "outputId": "8048c927-3cbf-43a4-ac2f-320096625099"
      },
      "execution_count": 46,
      "outputs": [
        {
          "output_type": "stream",
          "name": "stdout",
          "text": [
            "('a', 1)\n",
            "('b', 2)\n",
            "('c', 3)\n"
          ]
        }
      ]
    },
    {
      "cell_type": "code",
      "source": [
        "[(k, v) for k, v in d.items()]"
      ],
      "metadata": {
        "colab": {
          "base_uri": "https://localhost:8080/"
        },
        "id": "IMKUDl2YZlA3",
        "outputId": "c6e3d9de-e8df-4cf6-bd56-4a4073a443ae"
      },
      "execution_count": 45,
      "outputs": [
        {
          "output_type": "execute_result",
          "data": {
            "text/plain": [
              "[('a', 1), ('b', 2), ('c', 3)]"
            ]
          },
          "metadata": {},
          "execution_count": 45
        }
      ]
    },
    {
      "cell_type": "code",
      "source": [
        "{k: v * 2 for k, v in d.items()}"
      ],
      "metadata": {
        "colab": {
          "base_uri": "https://localhost:8080/"
        },
        "id": "1FUfV2axZsrL",
        "outputId": "bcc193e3-8415-4489-8d57-f18a7f8731c0"
      },
      "execution_count": 47,
      "outputs": [
        {
          "output_type": "execute_result",
          "data": {
            "text/plain": [
              "{'a': 2, 'b': 4, 'c': 6}"
            ]
          },
          "metadata": {},
          "execution_count": 47
        }
      ]
    },
    {
      "cell_type": "code",
      "source": [
        "[(a, b) for a, b in zip([1, 2, 3], [4, 5, 6])]"
      ],
      "metadata": {
        "colab": {
          "base_uri": "https://localhost:8080/"
        },
        "id": "QMIT99FXZy6k",
        "outputId": "061ae1c4-869f-4fd0-8eaa-211855a233ef"
      },
      "execution_count": 48,
      "outputs": [
        {
          "output_type": "execute_result",
          "data": {
            "text/plain": [
              "[(1, 4), (2, 5), (3, 6)]"
            ]
          },
          "metadata": {},
          "execution_count": 48
        }
      ]
    },
    {
      "cell_type": "code",
      "source": [
        "[(a, b, c) for a, b, c in zip([1, 2, 3], [4, 5, 6], [7, 8, 9])]"
      ],
      "metadata": {
        "colab": {
          "base_uri": "https://localhost:8080/"
        },
        "id": "OEzOb_38Z06D",
        "outputId": "e23b8267-e83c-421b-bdd6-0a2662b10da0"
      },
      "execution_count": 49,
      "outputs": [
        {
          "output_type": "execute_result",
          "data": {
            "text/plain": [
              "[(1, 4, 7), (2, 5, 8), (3, 6, 9)]"
            ]
          },
          "metadata": {},
          "execution_count": 49
        }
      ]
    },
    {
      "cell_type": "markdown",
      "source": [
        "## **2. embeddings**"
      ],
      "metadata": {
        "id": "RXadrtnjZ_99"
      }
    },
    {
      "cell_type": "markdown",
      "source": [
        "Word embeddings capture semantic and syntactic relationships between words, allowing machine learning models to better understand the meaning of words in a given context. They are often used as input features for various NLP tasks, such as sentiment analysis, named entity recognition, machine translation, and text classification."
      ],
      "metadata": {
        "id": "1UVrEpegyBYi"
      }
    },
    {
      "cell_type": "code",
      "source": [
        "import numpy as np\n",
        "import tensorflow as tf\n",
        "import pandas as pd\n",
        "import itertools as it\n",
        "\n",
        "# Read data\n",
        "words = pd.read_csv('/content/headlines.zip').loc[lambda d: ~d['text'].isna()]['text'][:20_000]\n",
        "#selects the 'text' column, removes rows where the 'text' value is NaN, and finally selects the first 20,000 rows\n",
        "\n",
        "def sliding_window(txt):\n",
        "    for i in range(len(txt) - 1):#generate indices from 0 to len(txt) - 2.\n",
        "        txt = txt.replace(\" \", \"_\")#eplaces spaces in the text string txt with underscores. It ensures that spaces are not considered as separate characters in the sliding window.\n",
        "        yield txt[i], txt[i + 1]\n",
        "\n",
        "# Make sliding window\n",
        "window = list(it.chain(*[sliding_window(_) for _ in words]))\n",
        "mapping = {c: i for i, c in enumerate(pd.DataFrame(window)[0].unique())}\n",
        "\n",
        "# Training data\n",
        "integers_in = np.array([mapping[w[0]] for w in window])\n",
        "integers_out = np.array([mapping[w[1]] for w in window]).reshape(-1, 1)"
      ],
      "metadata": {
        "id": "UZvCLNM2aDd1"
      },
      "execution_count": 3,
      "outputs": []
    },
    {
      "cell_type": "markdown",
      "source": [
        "A lambda function in Python is a way to create small, anonymous functions.\n",
        "\n",
        "lambda arguments: expression\n",
        "\n",
        "yield keyword is used inside a function to turn it into a generator\n",
        "\n",
        "When the function encounters a yield statement, it suspends its execution and\n",
        "yields the value to the caller.\n",
        "The state of the function is saved, allowing it to resume where it left off when the generator is iterated over again.\n",
        "Each time the generator is iterated over, it continues execution from the point where it last yielded a value."
      ],
      "metadata": {
        "id": "rupJgkp2sOgU"
      }
    },
    {
      "cell_type": "code",
      "source": [
        "from tensorflow.keras.layers import Embedding, Dense, Flatten\n",
        "from tensorflow.keras.models import Sequential\n",
        "import matplotlib.pylab as plt\n",
        "\n",
        "num_letters = len(mapping) # typically 36 -> 26 letters + 10 numbers\n",
        "\n",
        "# this one is so we might grab the embeddings\n",
        "model_emb = Sequential()\n",
        "embedding = Embedding(num_letters, 2, input_length=1)\n",
        "model_emb.add(embedding)\n",
        "\n",
        "idx_to_calc = list(mapping.values())\n",
        "idx_to_calc = np.array([idx_to_calc]).T\n",
        "\n",
        "translator = {v:k for k,v in mapping.items()}\n",
        "# Generate the 2d embeddings on an untrained network\n",
        "preds = model_emb.predict(idx_to_calc)"
      ],
      "metadata": {
        "colab": {
          "base_uri": "https://localhost:8080/"
        },
        "id": "8x_QJQe9sc4p",
        "outputId": "b37940d4-103b-4e6d-c0f7-c4a37625ef55"
      },
      "execution_count": 4,
      "outputs": [
        {
          "output_type": "stream",
          "name": "stdout",
          "text": [
            "2/2 [==============================] - 0s 4ms/step\n"
          ]
        }
      ]
    },
    {
      "cell_type": "code",
      "source": [
        "# Plot the 2d embeddings of each letter\n",
        "plt.scatter(preds[:, 0, 0], preds[:, 0, 1], alpha=0)\n",
        "for i, idx in enumerate(idx_to_calc):\n",
        "      plt.text(preds[i, 0, 0], preds[i, 0, 1], translator[idx[0]])"
      ],
      "metadata": {
        "colab": {
          "base_uri": "https://localhost:8080/",
          "height": 430
        },
        "id": "2-zxAUr7uTc6",
        "outputId": "986747a2-e6cb-4c37-96e0-9ea5a87f8120"
      },
      "execution_count": 5,
      "outputs": [
        {
          "output_type": "display_data",
          "data": {
            "text/plain": [
              "<Figure size 640x480 with 1 Axes>"
            ],
            "image/png": "[encoded data removed]"
          },
          "metadata": {}
        }
      ]
    },
    {
      "cell_type": "code",
      "source": [
        "from tensorflow.keras.optimizers import Adam\n",
        "\n",
        "# this one is so we might learn the mapping\n",
        "model_pred = Sequential()\n",
        "model_pred.add(embedding)\n",
        "model_pred.add(Flatten())\n",
        "model_pred.add(Dense(num_letters, activation=\"softmax\"))\n",
        "\n",
        "adam = Adam(learning_rate=0.001, beta_1=0.9, beta_2=0.999, amsgrad=False)\n",
        "\n",
        "model_pred.compile(adam, 'categorical_crossentropy', metrics=['accuracy'])"
      ],
      "metadata": {
        "id": "EKp2wFnWucbI"
      },
      "execution_count": 6,
      "outputs": []
    },
    {
      "cell_type": "code",
      "source": [
        "from sklearn.preprocessing import OneHotEncoder\n",
        "\n",
        "to_predict = OneHotEncoder(sparse=False).fit_transform(integers_out)\n",
        "model_pred.fit(integers_in, to_predict, epochs=1, verbose=1)\n",
        "\n",
        "preds = model_emb.predict(idx_to_calc)\n",
        "plt.scatter(preds[:, 0, 0], preds[:, 0, 1], alpha=0)\n",
        "for i, idx in enumerate(idx_to_calc):\n",
        "    plt.text(preds[i, 0, 0], preds[i, 0, 1], translator[idx[0]])"
      ],
      "metadata": {
        "colab": {
          "base_uri": "https://localhost:8080/",
          "height": 522
        },
        "id": "xP-5ya-fue9T",
        "outputId": "0afaa1bd-0db0-4e72-b99a-ef8444e44bf6"
      },
      "execution_count": 7,
      "outputs": [
        {
          "output_type": "stream",
          "name": "stderr",
          "text": [
            "/usr/local/lib/python3.10/dist-packages/sklearn/preprocessing/_encoders.py:868: FutureWarning: `sparse` was renamed to `sparse_output` in version 1.2 and will be removed in 1.4. `sparse_output` is ignored unless you leave `sparse` to its default value.\n",
            "  warnings.warn(\n"
          ]
        },
        {
          "output_type": "stream",
          "name": "stdout",
          "text": [
            "23907/23907 [==============================] - 42s 2ms/step - loss: 2.7135 - accuracy: 0.1857\n",
            "2/2 [==============================] - 0s 5ms/step\n"
          ]
        },
        {
          "output_type": "display_data",
          "data": {
            "text/plain": [
              "<Figure size 640x480 with 1 Axes>"
            ],
            "image/png": "[encoded data removed]"
          },
          "metadata": {}
        }
      ]
    },
    {
      "cell_type": "markdown",
      "source": [
        "Embeding Process\n",
        "\n",
        "1. Input Representation\n",
        "\n",
        "represent words as numerical inputs that a neural network can process.\n",
        "\n",
        "2. Embedding Layer\n",
        "\n",
        "learns to map each word index to a dense vector representation (embedding vector).\n",
        "\n",
        "3. Training Objective\n",
        "\n",
        "The entire model is trained using a supervised learning approach, where the objective is to minimize a predefined loss function (e.g., cross-entropy loss) by adjusting the parameters of the model, including the embedding vectors.\n",
        "\n",
        "4. Learning Semantic Relationships\n",
        "\n",
        "allows the embedding layer to capture similarities and differences between words based on their meanings, syntactic properties, and usage in context.\n",
        "\n",
        "5. Embedding Visualization\n",
        "\n",
        "After training, the learned word embeddings can be visualized in a lower-dimensional space using techniques such as dimensionality reduction (e.g., t-SNE) to visualize clusters of similar words. This can provide insights into the quality of the learned embeddings and how well they capture semantic relationships between words."
      ],
      "metadata": {
        "id": "UqBqOqY318qd"
      }
    }
  ]
}