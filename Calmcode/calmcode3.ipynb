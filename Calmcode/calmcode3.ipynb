{
  "nbformat": 4,
  "nbformat_minor": 0,
  "metadata": {
    "colab": {
      "provenance": []
    },
    "kernelspec": {
      "name": "python3",
      "display_name": "Python 3"
    },
    "language_info": {
      "name": "python"
    }
  },
  "cells": [
    {
      "cell_type": "markdown",
      "source": [
        "1. Scikit Learning"
      ],
      "metadata": {
        "id": "-HAxkE7OuIYR"
      }
    },
    {
      "cell_type": "code",
      "source": [
        "pip install --upgrade scikit-learn==0.23.0"
      ],
      "metadata": {
        "colab": {
          "base_uri": "https://localhost:8080/"
        },
        "id": "Rvf4RUgSuHe_",
        "outputId": "15375ef8-ea39-469c-a1d8-e9e9257046e9"
      },
      "execution_count": 1,
      "outputs": [
        {
          "output_type": "stream",
          "name": "stdout",
          "text": [
            "Collecting scikit-learn==0.23.0\n",
            "  Downloading scikit-learn-0.23.0.tar.gz (7.2 MB)\n",
            "\u001b[2K     \u001b[90m━━━━━━━━━━━━━━━━━━━━━━━━━━━━━━━━━━━━━━━━\u001b[0m \u001b[32m7.2/7.2 MB\u001b[0m \u001b[31m7.8 MB/s\u001b[0m eta \u001b[36m0:00:00\u001b[0m\n",
            "\u001b[?25h  \u001b[1;31merror\u001b[0m: \u001b[1msubprocess-exited-with-error\u001b[0m\n",
            "  \n",
            "  \u001b[31m×\u001b[0m \u001b[32mpip subprocess to install build dependencies\u001b[0m did not run successfully.\n",
            "  \u001b[31m│\u001b[0m exit code: \u001b[1;36m1\u001b[0m\n",
            "  \u001b[31m╰─>\u001b[0m See above for output.\n",
            "  \n",
            "  \u001b[1;35mnote\u001b[0m: This error originates from a subprocess, and is likely not a problem with pip.\n",
            "  Installing build dependencies ... \u001b[?25l\u001b[?25herror\n",
            "\u001b[1;31merror\u001b[0m: \u001b[1msubprocess-exited-with-error\u001b[0m\n",
            "\n",
            "\u001b[31m×\u001b[0m \u001b[32mpip subprocess to install build dependencies\u001b[0m did not run successfully.\n",
            "\u001b[31m│\u001b[0m exit code: \u001b[1;36m1\u001b[0m\n",
            "\u001b[31m╰─>\u001b[0m See above for output.\n",
            "\n",
            "\u001b[1;35mnote\u001b[0m: This error originates from a subprocess, and is likely not a problem with pip.\n"
          ]
        }
      ]
    },
    {
      "cell_type": "markdown",
      "source": [
        "if use juypter notebook, add %"
      ],
      "metadata": {
        "id": "lYIHU3Vjvgfc"
      }
    },
    {
      "cell_type": "code",
      "execution_count": 2,
      "metadata": {
        "colab": {
          "base_uri": "https://localhost:8080/"
        },
        "id": "s3T-6dgUtzQ0",
        "outputId": "58a45aea-479e-49ff-f952-66c0e1fc06a6"
      },
      "outputs": [
        {
          "output_type": "stream",
          "name": "stdout",
          "text": [
            "Requirement already satisfied: scikit-learn in /usr/local/lib/python3.10/dist-packages (1.2.2)\n",
            "Requirement already satisfied: numpy>=1.17.3 in /usr/local/lib/python3.10/dist-packages (from scikit-learn) (1.25.2)\n",
            "Requirement already satisfied: scipy>=1.3.2 in /usr/local/lib/python3.10/dist-packages (from scikit-learn) (1.11.4)\n",
            "Requirement already satisfied: joblib>=1.1.1 in /usr/local/lib/python3.10/dist-packages (from scikit-learn) (1.3.2)\n",
            "Requirement already satisfied: threadpoolctl>=2.0.0 in /usr/local/lib/python3.10/dist-packages (from scikit-learn) (3.3.0)\n"
          ]
        }
      ],
      "source": [
        "pip install scikit-learn"
      ]
    },
    {
      "cell_type": "markdown",
      "source": [
        "import dataset from sklearn"
      ],
      "metadata": {
        "id": "wei8ieULxAmf"
      }
    },
    {
      "cell_type": "code",
      "source": [
        "from sklearn.datasets import load_breast_cancer"
      ],
      "metadata": {
        "id": "YgLo8_Qrvfgd"
      },
      "execution_count": 5,
      "outputs": []
    },
    {
      "cell_type": "code",
      "source": [
        "load_breast_cancer()"
      ],
      "metadata": {
        "colab": {
          "base_uri": "https://localhost:8080/"
        },
        "id": "RgE-75CWxDWJ",
        "outputId": "e055a9af-1978-44ed-b847-59ad4b3a6e35"
      },
      "execution_count": 6,
      "outputs": [
        {
          "output_type": "execute_result",
          "data": {
            "text/plain": [
              "{'data': array([[1.799e+01, 1.038e+01, 1.228e+02, ..., 2.654e-01, 4.601e-01,\n",
              "         1.189e-01],\n",
              "        [2.057e+01, 1.777e+01, 1.329e+02, ..., 1.860e-01, 2.750e-01,\n",
              "         8.902e-02],\n",
              "        [1.969e+01, 2.125e+01, 1.300e+02, ..., 2.430e-01, 3.613e-01,\n",
              "         8.758e-02],\n",
              "        ...,\n",
              "        [1.660e+01, 2.808e+01, 1.083e+02, ..., 1.418e-01, 2.218e-01,\n",
              "         7.820e-02],\n",
              "        [2.060e+01, 2.933e+01, 1.401e+02, ..., 2.650e-01, 4.087e-01,\n",
              "         1.240e-01],\n",
              "        [7.760e+00, 2.454e+01, 4.792e+01, ..., 0.000e+00, 2.871e-01,\n",
              "         7.039e-02]]),\n",
              " 'target': array([0, 0, 0, 0, 0, 0, 0, 0, 0, 0, 0, 0, 0, 0, 0, 0, 0, 0, 0, 1, 1, 1,\n",
              "        0, 0, 0, 0, 0, 0, 0, 0, 0, 0, 0, 0, 0, 0, 0, 1, 0, 0, 0, 0, 0, 0,\n",
              "        0, 0, 1, 0, 1, 1, 1, 1, 1, 0, 0, 1, 0, 0, 1, 1, 1, 1, 0, 1, 0, 0,\n",
              "        1, 1, 1, 1, 0, 1, 0, 0, 1, 0, 1, 0, 0, 1, 1, 1, 0, 0, 1, 0, 0, 0,\n",
              "        1, 1, 1, 0, 1, 1, 0, 0, 1, 1, 1, 0, 0, 1, 1, 1, 1, 0, 1, 1, 0, 1,\n",
              "        1, 1, 1, 1, 1, 1, 1, 0, 0, 0, 1, 0, 0, 1, 1, 1, 0, 0, 1, 0, 1, 0,\n",
              "        0, 1, 0, 0, 1, 1, 0, 1, 1, 0, 1, 1, 1, 1, 0, 1, 1, 1, 1, 1, 1, 1,\n",
              "        1, 1, 0, 1, 1, 1, 1, 0, 0, 1, 0, 1, 1, 0, 0, 1, 1, 0, 0, 1, 1, 1,\n",
              "        1, 0, 1, 1, 0, 0, 0, 1, 0, 1, 0, 1, 1, 1, 0, 1, 1, 0, 0, 1, 0, 0,\n",
              "        0, 0, 1, 0, 0, 0, 1, 0, 1, 0, 1, 1, 0, 1, 0, 0, 0, 0, 1, 1, 0, 0,\n",
              "        1, 1, 1, 0, 1, 1, 1, 1, 1, 0, 0, 1, 1, 0, 1, 1, 0, 0, 1, 0, 1, 1,\n",
              "        1, 1, 0, 1, 1, 1, 1, 1, 0, 1, 0, 0, 0, 0, 0, 0, 0, 0, 0, 0, 0, 0,\n",
              "        0, 0, 1, 1, 1, 1, 1, 1, 0, 1, 0, 1, 1, 0, 1, 1, 0, 1, 0, 0, 1, 1,\n",
              "        1, 1, 1, 1, 1, 1, 1, 1, 1, 1, 1, 0, 1, 1, 0, 1, 0, 1, 1, 1, 1, 1,\n",
              "        1, 1, 1, 1, 1, 1, 1, 1, 1, 0, 1, 1, 1, 0, 1, 0, 1, 1, 1, 1, 0, 0,\n",
              "        0, 1, 1, 1, 1, 0, 1, 0, 1, 0, 1, 1, 1, 0, 1, 1, 1, 1, 1, 1, 1, 0,\n",
              "        0, 0, 1, 1, 1, 1, 1, 1, 1, 1, 1, 1, 1, 0, 0, 1, 0, 0, 0, 1, 0, 0,\n",
              "        1, 1, 1, 1, 1, 0, 1, 1, 1, 1, 1, 0, 1, 1, 1, 0, 1, 1, 0, 0, 1, 1,\n",
              "        1, 1, 1, 1, 0, 1, 1, 1, 1, 1, 1, 1, 0, 1, 1, 1, 1, 1, 0, 1, 1, 0,\n",
              "        1, 1, 1, 1, 1, 1, 1, 1, 1, 1, 1, 1, 0, 1, 0, 0, 1, 0, 1, 1, 1, 1,\n",
              "        1, 0, 1, 1, 0, 1, 0, 1, 1, 0, 1, 0, 1, 1, 1, 1, 1, 1, 1, 1, 0, 0,\n",
              "        1, 1, 1, 1, 1, 1, 0, 1, 1, 1, 1, 1, 1, 1, 1, 1, 1, 0, 1, 1, 1, 1,\n",
              "        1, 1, 1, 0, 1, 0, 1, 1, 0, 1, 1, 1, 1, 1, 0, 0, 1, 0, 1, 0, 1, 1,\n",
              "        1, 1, 1, 0, 1, 1, 0, 1, 0, 1, 0, 0, 1, 1, 1, 0, 1, 1, 1, 1, 1, 1,\n",
              "        1, 1, 1, 1, 1, 0, 1, 0, 0, 1, 1, 1, 1, 1, 1, 1, 1, 1, 1, 1, 1, 1,\n",
              "        1, 1, 1, 1, 1, 1, 1, 1, 1, 1, 1, 1, 0, 0, 0, 0, 0, 0, 1]),\n",
              " 'frame': None,\n",
              " 'target_names': array(['malignant', 'benign'], dtype='<U9'),\n",
              " 'DESCR': '.. _breast_cancer_dataset:\\n\\nBreast cancer wisconsin (diagnostic) dataset\\n--------------------------------------------\\n\\n**Data Set Characteristics:**\\n\\n    :Number of Instances: 569\\n\\n    :Number of Attributes: 30 numeric, predictive attributes and the class\\n\\n    :Attribute Information:\\n        - radius (mean of distances from center to points on the perimeter)\\n        - texture (standard deviation of gray-scale values)\\n        - perimeter\\n        - area\\n        - smoothness (local variation in radius lengths)\\n        - compactness (perimeter^2 / area - 1.0)\\n        - concavity (severity of concave portions of the contour)\\n        - concave points (number of concave portions of the contour)\\n        - symmetry\\n        - fractal dimension (\"coastline approximation\" - 1)\\n\\n        The mean, standard error, and \"worst\" or largest (mean of the three\\n        worst/largest values) of these features were computed for each image,\\n        resulting in 30 features.  For instance, field 0 is Mean Radius, field\\n        10 is Radius SE, field 20 is Worst Radius.\\n\\n        - class:\\n                - WDBC-Malignant\\n                - WDBC-Benign\\n\\n    :Summary Statistics:\\n\\n    ===================================== ====== ======\\n                                           Min    Max\\n    ===================================== ====== ======\\n    radius (mean):                        6.981  28.11\\n    texture (mean):                       9.71   39.28\\n    perimeter (mean):                     43.79  188.5\\n    area (mean):                          143.5  2501.0\\n    smoothness (mean):                    0.053  0.163\\n    compactness (mean):                   0.019  0.345\\n    concavity (mean):                     0.0    0.427\\n    concave points (mean):                0.0    0.201\\n    symmetry (mean):                      0.106  0.304\\n    fractal dimension (mean):             0.05   0.097\\n    radius (standard error):              0.112  2.873\\n    texture (standard error):             0.36   4.885\\n    perimeter (standard error):           0.757  21.98\\n    area (standard error):                6.802  542.2\\n    smoothness (standard error):          0.002  0.031\\n    compactness (standard error):         0.002  0.135\\n    concavity (standard error):           0.0    0.396\\n    concave points (standard error):      0.0    0.053\\n    symmetry (standard error):            0.008  0.079\\n    fractal dimension (standard error):   0.001  0.03\\n    radius (worst):                       7.93   36.04\\n    texture (worst):                      12.02  49.54\\n    perimeter (worst):                    50.41  251.2\\n    area (worst):                         185.2  4254.0\\n    smoothness (worst):                   0.071  0.223\\n    compactness (worst):                  0.027  1.058\\n    concavity (worst):                    0.0    1.252\\n    concave points (worst):               0.0    0.291\\n    symmetry (worst):                     0.156  0.664\\n    fractal dimension (worst):            0.055  0.208\\n    ===================================== ====== ======\\n\\n    :Missing Attribute Values: None\\n\\n    :Class Distribution: 212 - Malignant, 357 - Benign\\n\\n    :Creator:  Dr. William H. Wolberg, W. Nick Street, Olvi L. Mangasarian\\n\\n    :Donor: Nick Street\\n\\n    :Date: November, 1995\\n\\nThis is a copy of UCI ML Breast Cancer Wisconsin (Diagnostic) datasets.\\nhttps://goo.gl/U2Uwz2\\n\\nFeatures are computed from a digitized image of a fine needle\\naspirate (FNA) of a breast mass.  They describe\\ncharacteristics of the cell nuclei present in the image.\\n\\nSeparating plane described above was obtained using\\nMultisurface Method-Tree (MSM-T) [K. P. Bennett, \"Decision Tree\\nConstruction Via Linear Programming.\" Proceedings of the 4th\\nMidwest Artificial Intelligence and Cognitive Science Society,\\npp. 97-101, 1992], a classification method which uses linear\\nprogramming to construct a decision tree.  Relevant features\\nwere selected using an exhaustive search in the space of 1-4\\nfeatures and 1-3 separating planes.\\n\\nThe actual linear program used to obtain the separating plane\\nin the 3-dimensional space is that described in:\\n[K. P. Bennett and O. L. Mangasarian: \"Robust Linear\\nProgramming Discrimination of Two Linearly Inseparable Sets\",\\nOptimization Methods and Software 1, 1992, 23-34].\\n\\nThis database is also available through the UW CS ftp server:\\n\\nftp ftp.cs.wisc.edu\\ncd math-prog/cpo-dataset/machine-learn/WDBC/\\n\\n.. topic:: References\\n\\n   - W.N. Street, W.H. Wolberg and O.L. Mangasarian. Nuclear feature extraction \\n     for breast tumor diagnosis. IS&T/SPIE 1993 International Symposium on \\n     Electronic Imaging: Science and Technology, volume 1905, pages 861-870,\\n     San Jose, CA, 1993.\\n   - O.L. Mangasarian, W.N. Street and W.H. Wolberg. Breast cancer diagnosis and \\n     prognosis via linear programming. Operations Research, 43(4), pages 570-577, \\n     July-August 1995.\\n   - W.H. Wolberg, W.N. Street, and O.L. Mangasarian. Machine learning techniques\\n     to diagnose breast cancer from fine-needle aspirates. Cancer Letters 77 (1994) \\n     163-171.',\n",
              " 'feature_names': array(['mean radius', 'mean texture', 'mean perimeter', 'mean area',\n",
              "        'mean smoothness', 'mean compactness', 'mean concavity',\n",
              "        'mean concave points', 'mean symmetry', 'mean fractal dimension',\n",
              "        'radius error', 'texture error', 'perimeter error', 'area error',\n",
              "        'smoothness error', 'compactness error', 'concavity error',\n",
              "        'concave points error', 'symmetry error',\n",
              "        'fractal dimension error', 'worst radius', 'worst texture',\n",
              "        'worst perimeter', 'worst area', 'worst smoothness',\n",
              "        'worst compactness', 'worst concavity', 'worst concave points',\n",
              "        'worst symmetry', 'worst fractal dimension'], dtype='<U23'),\n",
              " 'filename': 'breast_cancer.csv',\n",
              " 'data_module': 'sklearn.datasets.data'}"
            ]
          },
          "metadata": {},
          "execution_count": 6
        }
      ]
    },
    {
      "cell_type": "code",
      "source": [
        "X, y = load_breast_cancer(return_X_y=True)"
      ],
      "metadata": {
        "id": "q4jbP5apxk_m"
      },
      "execution_count": 11,
      "outputs": []
    },
    {
      "cell_type": "markdown",
      "source": [
        "Import models"
      ],
      "metadata": {
        "id": "8oyLbyFp4DQ4"
      }
    },
    {
      "cell_type": "code",
      "source": [
        "from sklearn.neighbors import KNeighborsRegressor\n",
        "from sklearn.linear_model import LinearRegression"
      ],
      "metadata": {
        "id": "hbAe7CUZ3rw2"
      },
      "execution_count": 12,
      "outputs": []
    },
    {
      "cell_type": "code",
      "source": [
        "mod = LinearRegression()\n",
        "mod.fit(X, y)"
      ],
      "metadata": {
        "colab": {
          "base_uri": "https://localhost:8080/",
          "height": 74
        },
        "id": "dg31PHOA4Flq",
        "outputId": "7f54f131-3b5f-4f25-e49c-dbf5d2fcb7e4"
      },
      "execution_count": 13,
      "outputs": [
        {
          "output_type": "execute_result",
          "data": {
            "text/plain": [
              "LinearRegression()"
            ],
            "text/html": [
              "<style>#sk-container-id-1 {color: black;background-color: white;}#sk-container-id-1 pre{padding: 0;}#sk-container-id-1 div.sk-toggleable {background-color: white;}#sk-container-id-1 label.sk-toggleable__label {cursor: pointer;display: block;width: 100%;margin-bottom: 0;padding: 0.3em;box-sizing: border-box;text-align: center;}#sk-container-id-1 label.sk-toggleable__label-arrow:before {content: \"▸\";float: left;margin-right: 0.25em;color: #696969;}#sk-container-id-1 label.sk-toggleable__label-arrow:hover:before {color: black;}#sk-container-id-1 div.sk-estimator:hover label.sk-toggleable__label-arrow:before {color: black;}#sk-container-id-1 div.sk-toggleable__content {max-height: 0;max-width: 0;overflow: hidden;text-align: left;background-color: #f0f8ff;}#sk-container-id-1 div.sk-toggleable__content pre {margin: 0.2em;color: black;border-radius: 0.25em;background-color: #f0f8ff;}#sk-container-id-1 input.sk-toggleable__control:checked~div.sk-toggleable__content {max-height: 200px;max-width: 100%;overflow: auto;}#sk-container-id-1 input.sk-toggleable__control:checked~label.sk-toggleable__label-arrow:before {content: \"▾\";}#sk-container-id-1 div.sk-estimator input.sk-toggleable__control:checked~label.sk-toggleable__label {background-color: #d4ebff;}#sk-container-id-1 div.sk-label input.sk-toggleable__control:checked~label.sk-toggleable__label {background-color: #d4ebff;}#sk-container-id-1 input.sk-hidden--visually {border: 0;clip: rect(1px 1px 1px 1px);clip: rect(1px, 1px, 1px, 1px);height: 1px;margin: -1px;overflow: hidden;padding: 0;position: absolute;width: 1px;}#sk-container-id-1 div.sk-estimator {font-family: monospace;background-color: #f0f8ff;border: 1px dotted black;border-radius: 0.25em;box-sizing: border-box;margin-bottom: 0.5em;}#sk-container-id-1 div.sk-estimator:hover {background-color: #d4ebff;}#sk-container-id-1 div.sk-parallel-item::after {content: \"\";width: 100%;border-bottom: 1px solid gray;flex-grow: 1;}#sk-container-id-1 div.sk-label:hover label.sk-toggleable__label {background-color: #d4ebff;}#sk-container-id-1 div.sk-serial::before {content: \"\";position: absolute;border-left: 1px solid gray;box-sizing: border-box;top: 0;bottom: 0;left: 50%;z-index: 0;}#sk-container-id-1 div.sk-serial {display: flex;flex-direction: column;align-items: center;background-color: white;padding-right: 0.2em;padding-left: 0.2em;position: relative;}#sk-container-id-1 div.sk-item {position: relative;z-index: 1;}#sk-container-id-1 div.sk-parallel {display: flex;align-items: stretch;justify-content: center;background-color: white;position: relative;}#sk-container-id-1 div.sk-item::before, #sk-container-id-1 div.sk-parallel-item::before {content: \"\";position: absolute;border-left: 1px solid gray;box-sizing: border-box;top: 0;bottom: 0;left: 50%;z-index: -1;}#sk-container-id-1 div.sk-parallel-item {display: flex;flex-direction: column;z-index: 1;position: relative;background-color: white;}#sk-container-id-1 div.sk-parallel-item:first-child::after {align-self: flex-end;width: 50%;}#sk-container-id-1 div.sk-parallel-item:last-child::after {align-self: flex-start;width: 50%;}#sk-container-id-1 div.sk-parallel-item:only-child::after {width: 0;}#sk-container-id-1 div.sk-dashed-wrapped {border: 1px dashed gray;margin: 0 0.4em 0.5em 0.4em;box-sizing: border-box;padding-bottom: 0.4em;background-color: white;}#sk-container-id-1 div.sk-label label {font-family: monospace;font-weight: bold;display: inline-block;line-height: 1.2em;}#sk-container-id-1 div.sk-label-container {text-align: center;}#sk-container-id-1 div.sk-container {/* jupyter's `normalize.less` sets `[hidden] { display: none; }` but bootstrap.min.css set `[hidden] { display: none !important; }` so we also need the `!important` here to be able to override the default hidden behavior on the sphinx rendered scikit-learn.org. See: https://github.com/scikit-learn/scikit-learn/issues/21755 */display: inline-block !important;position: relative;}#sk-container-id-1 div.sk-text-repr-fallback {display: none;}</style><div id=\"sk-container-id-1\" class=\"sk-top-container\"><div class=\"sk-text-repr-fallback\"><pre>LinearRegression()</pre><b>In a Jupyter environment, please rerun this cell to show the HTML representation or trust the notebook. <br />On GitHub, the HTML representation is unable to render, please try loading this page with nbviewer.org.</b></div><div class=\"sk-container\" hidden><div class=\"sk-item\"><div class=\"sk-estimator sk-toggleable\"><input class=\"sk-toggleable__control sk-hidden--visually\" id=\"sk-estimator-id-1\" type=\"checkbox\" checked><label for=\"sk-estimator-id-1\" class=\"sk-toggleable__label sk-toggleable__label-arrow\">LinearRegression</label><div class=\"sk-toggleable__content\"><pre>LinearRegression()</pre></div></div></div></div></div>"
            ]
          },
          "metadata": {},
          "execution_count": 13
        }
      ]
    },
    {
      "cell_type": "code",
      "source": [
        "score1=mod.predict(X)"
      ],
      "metadata": {
        "id": "T4LRu1N0Dj8S"
      },
      "execution_count": 21,
      "outputs": []
    },
    {
      "cell_type": "code",
      "source": [
        "score1.mean()"
      ],
      "metadata": {
        "colab": {
          "base_uri": "https://localhost:8080/"
        },
        "id": "WHV1HwvFDuLP",
        "outputId": "d250adc0-13f0-4a93-a466-b86b540691e0"
      },
      "execution_count": 22,
      "outputs": [
        {
          "output_type": "execute_result",
          "data": {
            "text/plain": [
              "0.627416520210896"
            ]
          },
          "metadata": {},
          "execution_count": 22
        }
      ]
    },
    {
      "cell_type": "code",
      "source": [
        "mod1 = KNeighborsRegressor()\n",
        "mod1.fit(X,y)\n",
        "socre2 = mod.predict(X)"
      ],
      "metadata": {
        "id": "FNZy4LKo4UeN"
      },
      "execution_count": 26,
      "outputs": []
    },
    {
      "cell_type": "code",
      "source": [
        "socre2.mean()"
      ],
      "metadata": {
        "colab": {
          "base_uri": "https://localhost:8080/"
        },
        "id": "izgapzarEKD6",
        "outputId": "215fee30-2688-42c5-cf57-8217e9bce4ca"
      },
      "execution_count": 27,
      "outputs": [
        {
          "output_type": "execute_result",
          "data": {
            "text/plain": [
              "0.627416520210896"
            ]
          },
          "metadata": {},
          "execution_count": 27
        }
      ]
    },
    {
      "cell_type": "code",
      "source": [
        "import matplotlib.pylab as plt"
      ],
      "metadata": {
        "id": "PnUCKg_pFMR4"
      },
      "execution_count": 28,
      "outputs": []
    },
    {
      "cell_type": "code",
      "source": [
        "mod3 = KNeighborsRegressor().fit(X, y)\n",
        "pred = mod3.predict(X)\n",
        "plt.scatter(pred, y)"
      ],
      "metadata": {
        "colab": {
          "base_uri": "https://localhost:8080/",
          "height": 448
        },
        "id": "wkS2pXdqFN6z",
        "outputId": "66ae3dbc-ab85-46d6-97a9-4aa7c84abb68"
      },
      "execution_count": 29,
      "outputs": [
        {
          "output_type": "execute_result",
          "data": {
            "text/plain": [
              "<matplotlib.collections.PathCollection at 0x7f19f4c7b4f0>"
            ]
          },
          "metadata": {},
          "execution_count": 29
        },
        {
          "output_type": "display_data",
          "data": {
            "text/plain": [
              "<Figure size 640x480 with 1 Axes>"
            ],
            "image/png": "[encoded data removed]"
          },
          "metadata": {}
        }
      ]
    },
    {
      "cell_type": "markdown",
      "source": [
        "Pipeline"
      ],
      "metadata": {
        "id": "CvCk29JbGZUP"
      }
    },
    {
      "cell_type": "code",
      "source": [
        "from sklearn.preprocessing import StandardScaler\n",
        "from sklearn.pipeline import Pipeline"
      ],
      "metadata": {
        "id": "BDnlwOSqGY8_"
      },
      "execution_count": 31,
      "outputs": []
    },
    {
      "cell_type": "code",
      "source": [
        "pipe = Pipeline([\n",
        "    (\"scale\", StandardScaler()),\n",
        "    (\"model\", KNeighborsRegressor())\n",
        "])\n",
        "pred = pipe.fit(X, y).predict(X)\n",
        "plt.scatter(pred, y)"
      ],
      "metadata": {
        "colab": {
          "base_uri": "https://localhost:8080/",
          "height": 448
        },
        "id": "GUZdwCGaGwyZ",
        "outputId": "f2708a69-9116-4cfa-856c-402a9c46dcd2"
      },
      "execution_count": 32,
      "outputs": [
        {
          "output_type": "execute_result",
          "data": {
            "text/plain": [
              "<matplotlib.collections.PathCollection at 0x7f19f091e1a0>"
            ]
          },
          "metadata": {},
          "execution_count": 32
        },
        {
          "output_type": "display_data",
          "data": {
            "text/plain": [
              "<Figure size 640x480 with 1 Axes>"
            ],
            "image/png": "[encoded data removed]"
          },
          "metadata": {}
        }
      ]
    },
    {
      "cell_type": "markdown",
      "source": [
        "GridSearchCV"
      ],
      "metadata": {
        "id": "HMeCzDmVJqUh"
      }
    },
    {
      "cell_type": "code",
      "source": [
        "from sklearn.model_selection import GridSearchCV\n",
        "import pandas as pd"
      ],
      "metadata": {
        "id": "fbokPJGxG_Kj"
      },
      "execution_count": 34,
      "outputs": []
    },
    {
      "cell_type": "code",
      "source": [
        "mod = GridSearchCV(estimator=pipe,\n",
        "                   param_grid={\n",
        "                     'model__n_neighbors': [1, 2, 3, 4, 5, 6, 7, 8, 9, 10]\n",
        "                   },\n",
        "                   cv=3)\n",
        "mod.fit(X, y)"
      ],
      "metadata": {
        "colab": {
          "base_uri": "https://localhost:8080/",
          "height": 151
        },
        "id": "dbacXflHJ2QG",
        "outputId": "e3086a7f-4311-470c-dace-5fed19bb2a29"
      },
      "execution_count": 35,
      "outputs": [
        {
          "output_type": "execute_result",
          "data": {
            "text/plain": [
              "GridSearchCV(cv=3,\n",
              "             estimator=Pipeline(steps=[('scale', StandardScaler()),\n",
              "                                       ('model', KNeighborsRegressor())]),\n",
              "             param_grid={'model__n_neighbors': [1, 2, 3, 4, 5, 6, 7, 8, 9, 10]})"
            ],
            "text/html": [
              "<style>#sk-container-id-2 {color: black;background-color: white;}#sk-container-id-2 pre{padding: 0;}#sk-container-id-2 div.sk-toggleable {background-color: white;}#sk-container-id-2 label.sk-toggleable__label {cursor: pointer;display: block;width: 100%;margin-bottom: 0;padding: 0.3em;box-sizing: border-box;text-align: center;}#sk-container-id-2 label.sk-toggleable__label-arrow:before {content: \"▸\";float: left;margin-right: 0.25em;color: #696969;}#sk-container-id-2 label.sk-toggleable__label-arrow:hover:before {color: black;}#sk-container-id-2 div.sk-estimator:hover label.sk-toggleable__label-arrow:before {color: black;}#sk-container-id-2 div.sk-toggleable__content {max-height: 0;max-width: 0;overflow: hidden;text-align: left;background-color: #f0f8ff;}#sk-container-id-2 div.sk-toggleable__content pre {margin: 0.2em;color: black;border-radius: 0.25em;background-color: #f0f8ff;}#sk-container-id-2 input.sk-toggleable__control:checked~div.sk-toggleable__content {max-height: 200px;max-width: 100%;overflow: auto;}#sk-container-id-2 input.sk-toggleable__control:checked~label.sk-toggleable__label-arrow:before {content: \"▾\";}#sk-container-id-2 div.sk-estimator input.sk-toggleable__control:checked~label.sk-toggleable__label {background-color: #d4ebff;}#sk-container-id-2 div.sk-label input.sk-toggleable__control:checked~label.sk-toggleable__label {background-color: #d4ebff;}#sk-container-id-2 input.sk-hidden--visually {border: 0;clip: rect(1px 1px 1px 1px);clip: rect(1px, 1px, 1px, 1px);height: 1px;margin: -1px;overflow: hidden;padding: 0;position: absolute;width: 1px;}#sk-container-id-2 div.sk-estimator {font-family: monospace;background-color: #f0f8ff;border: 1px dotted black;border-radius: 0.25em;box-sizing: border-box;margin-bottom: 0.5em;}#sk-container-id-2 div.sk-estimator:hover {background-color: #d4ebff;}#sk-container-id-2 div.sk-parallel-item::after {content: \"\";width: 100%;border-bottom: 1px solid gray;flex-grow: 1;}#sk-container-id-2 div.sk-label:hover label.sk-toggleable__label {background-color: #d4ebff;}#sk-container-id-2 div.sk-serial::before {content: \"\";position: absolute;border-left: 1px solid gray;box-sizing: border-box;top: 0;bottom: 0;left: 50%;z-index: 0;}#sk-container-id-2 div.sk-serial {display: flex;flex-direction: column;align-items: center;background-color: white;padding-right: 0.2em;padding-left: 0.2em;position: relative;}#sk-container-id-2 div.sk-item {position: relative;z-index: 1;}#sk-container-id-2 div.sk-parallel {display: flex;align-items: stretch;justify-content: center;background-color: white;position: relative;}#sk-container-id-2 div.sk-item::before, #sk-container-id-2 div.sk-parallel-item::before {content: \"\";position: absolute;border-left: 1px solid gray;box-sizing: border-box;top: 0;bottom: 0;left: 50%;z-index: -1;}#sk-container-id-2 div.sk-parallel-item {display: flex;flex-direction: column;z-index: 1;position: relative;background-color: white;}#sk-container-id-2 div.sk-parallel-item:first-child::after {align-self: flex-end;width: 50%;}#sk-container-id-2 div.sk-parallel-item:last-child::after {align-self: flex-start;width: 50%;}#sk-container-id-2 div.sk-parallel-item:only-child::after {width: 0;}#sk-container-id-2 div.sk-dashed-wrapped {border: 1px dashed gray;margin: 0 0.4em 0.5em 0.4em;box-sizing: border-box;padding-bottom: 0.4em;background-color: white;}#sk-container-id-2 div.sk-label label {font-family: monospace;font-weight: bold;display: inline-block;line-height: 1.2em;}#sk-container-id-2 div.sk-label-container {text-align: center;}#sk-container-id-2 div.sk-container {/* jupyter's `normalize.less` sets `[hidden] { display: none; }` but bootstrap.min.css set `[hidden] { display: none !important; }` so we also need the `!important` here to be able to override the default hidden behavior on the sphinx rendered scikit-learn.org. See: https://github.com/scikit-learn/scikit-learn/issues/21755 */display: inline-block !important;position: relative;}#sk-container-id-2 div.sk-text-repr-fallback {display: none;}</style><div id=\"sk-container-id-2\" class=\"sk-top-container\"><div class=\"sk-text-repr-fallback\"><pre>GridSearchCV(cv=3,\n",
              "             estimator=Pipeline(steps=[(&#x27;scale&#x27;, StandardScaler()),\n",
              "                                       (&#x27;model&#x27;, KNeighborsRegressor())]),\n",
              "             param_grid={&#x27;model__n_neighbors&#x27;: [1, 2, 3, 4, 5, 6, 7, 8, 9, 10]})</pre><b>In a Jupyter environment, please rerun this cell to show the HTML representation or trust the notebook. <br />On GitHub, the HTML representation is unable to render, please try loading this page with nbviewer.org.</b></div><div class=\"sk-container\" hidden><div class=\"sk-item sk-dashed-wrapped\"><div class=\"sk-label-container\"><div class=\"sk-label sk-toggleable\"><input class=\"sk-toggleable__control sk-hidden--visually\" id=\"sk-estimator-id-2\" type=\"checkbox\" ><label for=\"sk-estimator-id-2\" class=\"sk-toggleable__label sk-toggleable__label-arrow\">GridSearchCV</label><div class=\"sk-toggleable__content\"><pre>GridSearchCV(cv=3,\n",
              "             estimator=Pipeline(steps=[(&#x27;scale&#x27;, StandardScaler()),\n",
              "                                       (&#x27;model&#x27;, KNeighborsRegressor())]),\n",
              "             param_grid={&#x27;model__n_neighbors&#x27;: [1, 2, 3, 4, 5, 6, 7, 8, 9, 10]})</pre></div></div></div><div class=\"sk-parallel\"><div class=\"sk-parallel-item\"><div class=\"sk-item\"><div class=\"sk-label-container\"><div class=\"sk-label sk-toggleable\"><input class=\"sk-toggleable__control sk-hidden--visually\" id=\"sk-estimator-id-3\" type=\"checkbox\" ><label for=\"sk-estimator-id-3\" class=\"sk-toggleable__label sk-toggleable__label-arrow\">estimator: Pipeline</label><div class=\"sk-toggleable__content\"><pre>Pipeline(steps=[(&#x27;scale&#x27;, StandardScaler()), (&#x27;model&#x27;, KNeighborsRegressor())])</pre></div></div></div><div class=\"sk-serial\"><div class=\"sk-item\"><div class=\"sk-serial\"><div class=\"sk-item\"><div class=\"sk-estimator sk-toggleable\"><input class=\"sk-toggleable__control sk-hidden--visually\" id=\"sk-estimator-id-4\" type=\"checkbox\" ><label for=\"sk-estimator-id-4\" class=\"sk-toggleable__label sk-toggleable__label-arrow\">StandardScaler</label><div class=\"sk-toggleable__content\"><pre>StandardScaler()</pre></div></div></div><div class=\"sk-item\"><div class=\"sk-estimator sk-toggleable\"><input class=\"sk-toggleable__control sk-hidden--visually\" id=\"sk-estimator-id-5\" type=\"checkbox\" ><label for=\"sk-estimator-id-5\" class=\"sk-toggleable__label sk-toggleable__label-arrow\">KNeighborsRegressor</label><div class=\"sk-toggleable__content\"><pre>KNeighborsRegressor()</pre></div></div></div></div></div></div></div></div></div></div></div></div>"
            ]
          },
          "metadata": {},
          "execution_count": 35
        }
      ]
    },
    {
      "cell_type": "code",
      "source": [
        "mod.fit(X, y)\n",
        "pd.DataFrame(mod.cv_results_)"
      ],
      "metadata": {
        "colab": {
          "base_uri": "https://localhost:8080/",
          "height": 556
        },
        "id": "nEcLGxkXKjDR",
        "outputId": "bc1923c3-d059-4f8f-8c2f-ad4f8a0b3369"
      },
      "execution_count": 36,
      "outputs": [
        {
          "output_type": "execute_result",
          "data": {
            "text/plain": [
              "   mean_fit_time  std_fit_time  mean_score_time  std_score_time  \\\n",
              "0       0.007832      0.004811         0.059465        0.061135   \n",
              "1       0.008403      0.004561         0.129059        0.015077   \n",
              "2       0.001772      0.000207         0.031191        0.035907   \n",
              "3       0.001513      0.000085         0.009367        0.005684   \n",
              "4       0.001572      0.000134         0.002334        0.000107   \n",
              "5       0.001430      0.000060         0.007168        0.003502   \n",
              "6       0.005940      0.006219         0.028071        0.026115   \n",
              "7       0.003654      0.003016         0.002486        0.000067   \n",
              "8       0.001415      0.000093         0.009112        0.004751   \n",
              "9       0.001413      0.000123         0.004099        0.002462   \n",
              "\n",
              "  param_model__n_neighbors                      params  split0_test_score  \\\n",
              "0                        1   {'model__n_neighbors': 1}           0.831504   \n",
              "1                        2   {'model__n_neighbors': 2}           0.836770   \n",
              "2                        3   {'model__n_neighbors': 3}           0.810442   \n",
              "3                        4   {'model__n_neighbors': 4}           0.802544   \n",
              "4                        5   {'model__n_neighbors': 5}           0.785168   \n",
              "5                        6   {'model__n_neighbors': 6}           0.772999   \n",
              "6                        7   {'model__n_neighbors': 7}           0.777775   \n",
              "7                        8   {'model__n_neighbors': 8}           0.756471   \n",
              "8                        9   {'model__n_neighbors': 9}           0.749857   \n",
              "9                       10  {'model__n_neighbors': 10}           0.741148   \n",
              "\n",
              "   split1_test_score  split2_test_score  mean_test_score  std_test_score  \\\n",
              "0           0.798729           0.668844         0.766359        0.070240   \n",
              "1           0.877001           0.774212         0.829327        0.042292   \n",
              "2           0.903092           0.819369         0.844301        0.041731   \n",
              "3           0.886785           0.847593         0.845641        0.034419   \n",
              "4           0.902495           0.861516         0.849727        0.048619   \n",
              "5           0.897501           0.866199         0.845566        0.052880   \n",
              "6           0.892747           0.861148         0.843890        0.048498   \n",
              "7           0.888532           0.871112         0.838705        0.058582   \n",
              "8           0.894809           0.851333         0.831999        0.060735   \n",
              "9           0.896681           0.852786         0.830205        0.065473   \n",
              "\n",
              "   rank_test_score  \n",
              "0               10  \n",
              "1                9  \n",
              "2                4  \n",
              "3                2  \n",
              "4                1  \n",
              "5                3  \n",
              "6                5  \n",
              "7                6  \n",
              "8                7  \n",
              "9                8  "
            ],
            "text/html": [
              "\n",
              "  <div id=\"df-912bd0f4-4f9e-41c5-9049-3565292a1b81\" class=\"colab-df-container\">\n",
              "    <div>\n",
              "<style scoped>\n",
              "    .dataframe tbody tr th:only-of-type {\n",
              "        vertical-align: middle;\n",
              "    }\n",
              "\n",
              "    .dataframe tbody tr th {\n",
              "        vertical-align: top;\n",
              "    }\n",
              "\n",
              "    .dataframe thead th {\n",
              "        text-align: right;\n",
              "    }\n",
              "</style>\n",
              "<table border=\"1\" class=\"dataframe\">\n",
              "  <thead>\n",
              "    <tr style=\"text-align: right;\">\n",
              "      <th></th>\n",
              "      <th>mean_fit_time</th>\n",
              "      <th>std_fit_time</th>\n",
              "      <th>mean_score_time</th>\n",
              "      <th>std_score_time</th>\n",
              "      <th>param_model__n_neighbors</th>\n",
              "      <th>params</th>\n",
              "      <th>split0_test_score</th>\n",
              "      <th>split1_test_score</th>\n",
              "      <th>split2_test_score</th>\n",
              "      <th>mean_test_score</th>\n",
              "      <th>std_test_score</th>\n",
              "      <th>rank_test_score</th>\n",
              "    </tr>\n",
              "  </thead>\n",
              "  <tbody>\n",
              "    <tr>\n",
              "      <th>0</th>\n",
              "      <td>0.007832</td>\n",
              "      <td>0.004811</td>\n",
              "      <td>0.059465</td>\n",
              "      <td>0.061135</td>\n",
              "      <td>1</td>\n",
              "      <td>{'model__n_neighbors': 1}</td>\n",
              "      <td>0.831504</td>\n",
              "      <td>0.798729</td>\n",
              "      <td>0.668844</td>\n",
              "      <td>0.766359</td>\n",
              "      <td>0.070240</td>\n",
              "      <td>10</td>\n",
              "    </tr>\n",
              "    <tr>\n",
              "      <th>1</th>\n",
              "      <td>0.008403</td>\n",
              "      <td>0.004561</td>\n",
              "      <td>0.129059</td>\n",
              "      <td>0.015077</td>\n",
              "      <td>2</td>\n",
              "      <td>{'model__n_neighbors': 2}</td>\n",
              "      <td>0.836770</td>\n",
              "      <td>0.877001</td>\n",
              "      <td>0.774212</td>\n",
              "      <td>0.829327</td>\n",
              "      <td>0.042292</td>\n",
              "      <td>9</td>\n",
              "    </tr>\n",
              "    <tr>\n",
              "      <th>2</th>\n",
              "      <td>0.001772</td>\n",
              "      <td>0.000207</td>\n",
              "      <td>0.031191</td>\n",
              "      <td>0.035907</td>\n",
              "      <td>3</td>\n",
              "      <td>{'model__n_neighbors': 3}</td>\n",
              "      <td>0.810442</td>\n",
              "      <td>0.903092</td>\n",
              "      <td>0.819369</td>\n",
              "      <td>0.844301</td>\n",
              "      <td>0.041731</td>\n",
              "      <td>4</td>\n",
              "    </tr>\n",
              "    <tr>\n",
              "      <th>3</th>\n",
              "      <td>0.001513</td>\n",
              "      <td>0.000085</td>\n",
              "      <td>0.009367</td>\n",
              "      <td>0.005684</td>\n",
              "      <td>4</td>\n",
              "      <td>{'model__n_neighbors': 4}</td>\n",
              "      <td>0.802544</td>\n",
              "      <td>0.886785</td>\n",
              "      <td>0.847593</td>\n",
              "      <td>0.845641</td>\n",
              "      <td>0.034419</td>\n",
              "      <td>2</td>\n",
              "    </tr>\n",
              "    <tr>\n",
              "      <th>4</th>\n",
              "      <td>0.001572</td>\n",
              "      <td>0.000134</td>\n",
              "      <td>0.002334</td>\n",
              "      <td>0.000107</td>\n",
              "      <td>5</td>\n",
              "      <td>{'model__n_neighbors': 5}</td>\n",
              "      <td>0.785168</td>\n",
              "      <td>0.902495</td>\n",
              "      <td>0.861516</td>\n",
              "      <td>0.849727</td>\n",
              "      <td>0.048619</td>\n",
              "      <td>1</td>\n",
              "    </tr>\n",
              "    <tr>\n",
              "      <th>5</th>\n",
              "      <td>0.001430</td>\n",
              "      <td>0.000060</td>\n",
              "      <td>0.007168</td>\n",
              "      <td>0.003502</td>\n",
              "      <td>6</td>\n",
              "      <td>{'model__n_neighbors': 6}</td>\n",
              "      <td>0.772999</td>\n",
              "      <td>0.897501</td>\n",
              "      <td>0.866199</td>\n",
              "      <td>0.845566</td>\n",
              "      <td>0.052880</td>\n",
              "      <td>3</td>\n",
              "    </tr>\n",
              "    <tr>\n",
              "      <th>6</th>\n",
              "      <td>0.005940</td>\n",
              "      <td>0.006219</td>\n",
              "      <td>0.028071</td>\n",
              "      <td>0.026115</td>\n",
              "      <td>7</td>\n",
              "      <td>{'model__n_neighbors': 7}</td>\n",
              "      <td>0.777775</td>\n",
              "      <td>0.892747</td>\n",
              "      <td>0.861148</td>\n",
              "      <td>0.843890</td>\n",
              "      <td>0.048498</td>\n",
              "      <td>5</td>\n",
              "    </tr>\n",
              "    <tr>\n",
              "      <th>7</th>\n",
              "      <td>0.003654</td>\n",
              "      <td>0.003016</td>\n",
              "      <td>0.002486</td>\n",
              "      <td>0.000067</td>\n",
              "      <td>8</td>\n",
              "      <td>{'model__n_neighbors': 8}</td>\n",
              "      <td>0.756471</td>\n",
              "      <td>0.888532</td>\n",
              "      <td>0.871112</td>\n",
              "      <td>0.838705</td>\n",
              "      <td>0.058582</td>\n",
              "      <td>6</td>\n",
              "    </tr>\n",
              "    <tr>\n",
              "      <th>8</th>\n",
              "      <td>0.001415</td>\n",
              "      <td>0.000093</td>\n",
              "      <td>0.009112</td>\n",
              "      <td>0.004751</td>\n",
              "      <td>9</td>\n",
              "      <td>{'model__n_neighbors': 9}</td>\n",
              "      <td>0.749857</td>\n",
              "      <td>0.894809</td>\n",
              "      <td>0.851333</td>\n",
              "      <td>0.831999</td>\n",
              "      <td>0.060735</td>\n",
              "      <td>7</td>\n",
              "    </tr>\n",
              "    <tr>\n",
              "      <th>9</th>\n",
              "      <td>0.001413</td>\n",
              "      <td>0.000123</td>\n",
              "      <td>0.004099</td>\n",
              "      <td>0.002462</td>\n",
              "      <td>10</td>\n",
              "      <td>{'model__n_neighbors': 10}</td>\n",
              "      <td>0.741148</td>\n",
              "      <td>0.896681</td>\n",
              "      <td>0.852786</td>\n",
              "      <td>0.830205</td>\n",
              "      <td>0.065473</td>\n",
              "      <td>8</td>\n",
              "    </tr>\n",
              "  </tbody>\n",
              "</table>\n",
              "</div>\n",
              "    <div class=\"colab-df-buttons\">\n",
              "\n",
              "  <div class=\"colab-df-container\">\n",
              "    <button class=\"colab-df-convert\" onclick=\"convertToInteractive('df-912bd0f4-4f9e-41c5-9049-3565292a1b81')\"\n",
              "            title=\"Convert this dataframe to an interactive table.\"\n",
              "            style=\"display:none;\">\n",
              "\n",
              "  <svg xmlns=\"http://www.w3.org/2000/svg\" height=\"24px\" viewBox=\"0 -960 960 960\">\n",
              "    <path d=\"M120-120v-720h720v720H120Zm60-500h600v-160H180v160Zm220 220h160v-160H400v160Zm0 220h160v-160H400v160ZM180-400h160v-160H180v160Zm440 0h160v-160H620v160ZM180-180h160v-160H180v160Zm440 0h160v-160H620v160Z\"/>\n",
              "  </svg>\n",
              "    </button>\n",
              "\n",
              "  <style>\n",
              "    .colab-df-container {\n",
              "      display:flex;\n",
              "      gap: 12px;\n",
              "    }\n",
              "\n",
              "    .colab-df-convert {\n",
              "      background-color: #E8F0FE;\n",
              "      border: none;\n",
              "      border-radius: 50%;\n",
              "      cursor: pointer;\n",
              "      display: none;\n",
              "      fill: #1967D2;\n",
              "      height: 32px;\n",
              "      padding: 0 0 0 0;\n",
              "      width: 32px;\n",
              "    }\n",
              "\n",
              "    .colab-df-convert:hover {\n",
              "      background-color: #E2EBFA;\n",
              "      box-shadow: 0px 1px 2px rgba(60, 64, 67, 0.3), 0px 1px 3px 1px rgba(60, 64, 67, 0.15);\n",
              "      fill: #174EA6;\n",
              "    }\n",
              "\n",
              "    .colab-df-buttons div {\n",
              "      margin-bottom: 4px;\n",
              "    }\n",
              "\n",
              "    [theme=dark] .colab-df-convert {\n",
              "      background-color: #3B4455;\n",
              "      fill: #D2E3FC;\n",
              "    }\n",
              "\n",
              "    [theme=dark] .colab-df-convert:hover {\n",
              "      background-color: #434B5C;\n",
              "      box-shadow: 0px 1px 3px 1px rgba(0, 0, 0, 0.15);\n",
              "      filter: drop-shadow(0px 1px 2px rgba(0, 0, 0, 0.3));\n",
              "      fill: #FFFFFF;\n",
              "    }\n",
              "  </style>\n",
              "\n",
              "    <script>\n",
              "      const buttonEl =\n",
              "        document.querySelector('#df-912bd0f4-4f9e-41c5-9049-3565292a1b81 button.colab-df-convert');\n",
              "      buttonEl.style.display =\n",
              "        google.colab.kernel.accessAllowed ? 'block' : 'none';\n",
              "\n",
              "      async function convertToInteractive(key) {\n",
              "        const element = document.querySelector('#df-912bd0f4-4f9e-41c5-9049-3565292a1b81');\n",
              "        const dataTable =\n",
              "          await google.colab.kernel.invokeFunction('convertToInteractive',\n",
              "                                                    [key], {});\n",
              "        if (!dataTable) return;\n",
              "\n",
              "        const docLinkHtml = 'Like what you see? Visit the ' +\n",
              "          '<a target=\"_blank\" href=https://colab.research.google.com/notebooks/data_table.ipynb>data table notebook</a>'\n",
              "          + ' to learn more about interactive tables.';\n",
              "        element.innerHTML = '';\n",
              "        dataTable['output_type'] = 'display_data';\n",
              "        await google.colab.output.renderOutput(dataTable, element);\n",
              "        const docLink = document.createElement('div');\n",
              "        docLink.innerHTML = docLinkHtml;\n",
              "        element.appendChild(docLink);\n",
              "      }\n",
              "    </script>\n",
              "  </div>\n",
              "\n",
              "\n",
              "<div id=\"df-b86a4a9d-7f78-4e26-890f-b41ff44e3800\">\n",
              "  <button class=\"colab-df-quickchart\" onclick=\"quickchart('df-b86a4a9d-7f78-4e26-890f-b41ff44e3800')\"\n",
              "            title=\"Suggest charts\"\n",
              "            style=\"display:none;\">\n",
              "\n",
              "<svg xmlns=\"http://www.w3.org/2000/svg\" height=\"24px\"viewBox=\"0 0 24 24\"\n",
              "     width=\"24px\">\n",
              "    <g>\n",
              "        <path d=\"M19 3H5c-1.1 0-2 .9-2 2v14c0 1.1.9 2 2 2h14c1.1 0 2-.9 2-2V5c0-1.1-.9-2-2-2zM9 17H7v-7h2v7zm4 0h-2V7h2v10zm4 0h-2v-4h2v4z\"/>\n",
              "    </g>\n",
              "</svg>\n",
              "  </button>\n",
              "\n",
              "<style>\n",
              "  .colab-df-quickchart {\n",
              "      --bg-color: #E8F0FE;\n",
              "      --fill-color: #1967D2;\n",
              "      --hover-bg-color: #E2EBFA;\n",
              "      --hover-fill-color: #174EA6;\n",
              "      --disabled-fill-color: #AAA;\n",
              "      --disabled-bg-color: #DDD;\n",
              "  }\n",
              "\n",
              "  [theme=dark] .colab-df-quickchart {\n",
              "      --bg-color: #3B4455;\n",
              "      --fill-color: #D2E3FC;\n",
              "      --hover-bg-color: #434B5C;\n",
              "      --hover-fill-color: #FFFFFF;\n",
              "      --disabled-bg-color: #3B4455;\n",
              "      --disabled-fill-color: #666;\n",
              "  }\n",
              "\n",
              "  .colab-df-quickchart {\n",
              "    background-color: var(--bg-color);\n",
              "    border: none;\n",
              "    border-radius: 50%;\n",
              "    cursor: pointer;\n",
              "    display: none;\n",
              "    fill: var(--fill-color);\n",
              "    height: 32px;\n",
              "    padding: 0;\n",
              "    width: 32px;\n",
              "  }\n",
              "\n",
              "  .colab-df-quickchart:hover {\n",
              "    background-color: var(--hover-bg-color);\n",
              "    box-shadow: 0 1px 2px rgba(60, 64, 67, 0.3), 0 1px 3px 1px rgba(60, 64, 67, 0.15);\n",
              "    fill: var(--button-hover-fill-color);\n",
              "  }\n",
              "\n",
              "  .colab-df-quickchart-complete:disabled,\n",
              "  .colab-df-quickchart-complete:disabled:hover {\n",
              "    background-color: var(--disabled-bg-color);\n",
              "    fill: var(--disabled-fill-color);\n",
              "    box-shadow: none;\n",
              "  }\n",
              "\n",
              "  .colab-df-spinner {\n",
              "    border: 2px solid var(--fill-color);\n",
              "    border-color: transparent;\n",
              "    border-bottom-color: var(--fill-color);\n",
              "    animation:\n",
              "      spin 1s steps(1) infinite;\n",
              "  }\n",
              "\n",
              "  @keyframes spin {\n",
              "    0% {\n",
              "      border-color: transparent;\n",
              "      border-bottom-color: var(--fill-color);\n",
              "      border-left-color: var(--fill-color);\n",
              "    }\n",
              "    20% {\n",
              "      border-color: transparent;\n",
              "      border-left-color: var(--fill-color);\n",
              "      border-top-color: var(--fill-color);\n",
              "    }\n",
              "    30% {\n",
              "      border-color: transparent;\n",
              "      border-left-color: var(--fill-color);\n",
              "      border-top-color: var(--fill-color);\n",
              "      border-right-color: var(--fill-color);\n",
              "    }\n",
              "    40% {\n",
              "      border-color: transparent;\n",
              "      border-right-color: var(--fill-color);\n",
              "      border-top-color: var(--fill-color);\n",
              "    }\n",
              "    60% {\n",
              "      border-color: transparent;\n",
              "      border-right-color: var(--fill-color);\n",
              "    }\n",
              "    80% {\n",
              "      border-color: transparent;\n",
              "      border-right-color: var(--fill-color);\n",
              "      border-bottom-color: var(--fill-color);\n",
              "    }\n",
              "    90% {\n",
              "      border-color: transparent;\n",
              "      border-bottom-color: var(--fill-color);\n",
              "    }\n",
              "  }\n",
              "</style>\n",
              "\n",
              "  <script>\n",
              "    async function quickchart(key) {\n",
              "      const quickchartButtonEl =\n",
              "        document.querySelector('#' + key + ' button');\n",
              "      quickchartButtonEl.disabled = true;  // To prevent multiple clicks.\n",
              "      quickchartButtonEl.classList.add('colab-df-spinner');\n",
              "      try {\n",
              "        const charts = await google.colab.kernel.invokeFunction(\n",
              "            'suggestCharts', [key], {});\n",
              "      } catch (error) {\n",
              "        console.error('Error during call to suggestCharts:', error);\n",
              "      }\n",
              "      quickchartButtonEl.classList.remove('colab-df-spinner');\n",
              "      quickchartButtonEl.classList.add('colab-df-quickchart-complete');\n",
              "    }\n",
              "    (() => {\n",
              "      let quickchartButtonEl =\n",
              "        document.querySelector('#df-b86a4a9d-7f78-4e26-890f-b41ff44e3800 button');\n",
              "      quickchartButtonEl.style.display =\n",
              "        google.colab.kernel.accessAllowed ? 'block' : 'none';\n",
              "    })();\n",
              "  </script>\n",
              "</div>\n",
              "    </div>\n",
              "  </div>\n"
            ],
            "application/vnd.google.colaboratory.intrinsic+json": {
              "type": "dataframe",
              "summary": "{\n  \"name\": \"pd\",\n  \"rows\": 10,\n  \"fields\": [\n    {\n      \"column\": \"mean_fit_time\",\n      \"properties\": {\n        \"dtype\": \"number\",\n        \"std\": 0.002836703620153099,\n        \"min\": 0.0014131863911946614,\n        \"max\": 0.008402744928995768,\n        \"num_unique_values\": 10,\n        \"samples\": [\n          0.0014148553212483723,\n          0.008402744928995768,\n          0.0014299551645914714\n        ],\n        \"semantic_type\": \"\",\n        \"description\": \"\"\n      }\n    },\n    {\n      \"column\": \"std_fit_time\",\n      \"properties\": {\n        \"dtype\": \"number\",\n        \"std\": 0.002461478223214337,\n        \"min\": 6.0242209999470345e-05,\n        \"max\": 0.0062186875324821865,\n        \"num_unique_values\": 10,\n        \"samples\": [\n          9.271536928303885e-05,\n          0.004561471494926368,\n          6.0242209999470345e-05\n        ],\n        \"semantic_type\": \"\",\n        \"description\": \"\"\n      }\n    },\n    {\n      \"column\": \"mean_score_time\",\n      \"properties\": {\n        \"dtype\": \"number\",\n        \"std\": 0.03976530447241936,\n        \"min\": 0.002334435780843099,\n        \"max\": 0.1290589968363444,\n        \"num_unique_values\": 10,\n        \"samples\": [\n          0.009111801783243815,\n          0.1290589968363444,\n          0.007167657216389974\n        ],\n        \"semantic_type\": \"\",\n        \"description\": \"\"\n      }\n    },\n    {\n      \"column\": \"std_score_time\",\n      \"properties\": {\n        \"dtype\": \"number\",\n        \"std\": 0.02003559593065145,\n        \"min\": 6.715649445905498e-05,\n        \"max\": 0.06113535288341308,\n        \"num_unique_values\": 10,\n        \"samples\": [\n          0.004750761145763502,\n          0.015076900769812671,\n          0.003502046445662537\n        ],\n        \"semantic_type\": \"\",\n        \"description\": \"\"\n      }\n    },\n    {\n      \"column\": \"param_model__n_neighbors\",\n      \"properties\": {\n        \"dtype\": \"date\",\n        \"min\": 1,\n        \"max\": 10,\n        \"num_unique_values\": 10,\n        \"samples\": [\n          9,\n          2,\n          6\n        ],\n        \"semantic_type\": \"\",\n        \"description\": \"\"\n      }\n    },\n    {\n      \"column\": \"params\",\n      \"properties\": {\n        \"dtype\": \"object\",\n        \"semantic_type\": \"\",\n        \"description\": \"\"\n      }\n    },\n    {\n      \"column\": \"split0_test_score\",\n      \"properties\": {\n        \"dtype\": \"number\",\n        \"std\": 0.0332406963768126,\n        \"min\": 0.7411484314377563,\n        \"max\": 0.8367697594501718,\n        \"num_unique_values\": 10,\n        \"samples\": [\n          0.7498566445098611,\n          0.8367697594501718,\n          0.7729988052568698\n        ],\n        \"semantic_type\": \"\",\n        \"description\": \"\"\n      }\n    },\n    {\n      \"column\": \"split1_test_score\",\n      \"properties\": {\n        \"dtype\": \"number\",\n        \"std\": 0.030896186478706907,\n        \"min\": 0.798728813559322,\n        \"max\": 0.9030916509730069,\n        \"num_unique_values\": 10,\n        \"samples\": [\n          0.894808886098905,\n          0.8770009416195856,\n          0.8975007846829881\n        ],\n        \"semantic_type\": \"\",\n        \"description\": \"\"\n      }\n    },\n    {\n      \"column\": \"split2_test_score\",\n      \"properties\": {\n        \"dtype\": \"number\",\n        \"std\": 0.06269646703272079,\n        \"min\": 0.6688435807582034,\n        \"max\": 0.8711124163746417,\n        \"num_unique_values\": 10,\n        \"samples\": [\n          0.8513326961877455,\n          0.7742115323351386,\n          0.866199426568971\n        ],\n        \"semantic_type\": \"\",\n        \"description\": \"\"\n      }\n    },\n    {\n      \"column\": \"mean_test_score\",\n      \"properties\": {\n        \"dtype\": \"number\",\n        \"std\": 0.0243534877060352,\n        \"min\": 0.7663588873790191,\n        \"max\": 0.8497265466236201,\n        \"num_unique_values\": 10,\n        \"samples\": [\n          0.8319994089321705,\n          0.8293274111349653,\n          0.8455663388362762\n        ],\n        \"semantic_type\": \"\",\n        \"description\": \"\"\n      }\n    },\n    {\n      \"column\": \"std_test_score\",\n      \"properties\": {\n        \"dtype\": \"number\",\n        \"std\": 0.01138173187912783,\n        \"min\": 0.034418893146219265,\n        \"max\": 0.07023998799119383,\n        \"num_unique_values\": 10,\n        \"samples\": [\n          0.060735053483701194,\n          0.04229229304569989,\n          0.0528802354526667\n        ],\n        \"semantic_type\": \"\",\n        \"description\": \"\"\n      }\n    },\n    {\n      \"column\": \"rank_test_score\",\n      \"properties\": {\n        \"dtype\": \"int32\",\n        \"num_unique_values\": 10,\n        \"samples\": [\n          7,\n          9,\n          3\n        ],\n        \"semantic_type\": \"\",\n        \"description\": \"\"\n      }\n    }\n  ]\n}"
            }
          },
          "metadata": {},
          "execution_count": 36
        }
      ]
    },
    {
      "cell_type": "code",
      "source": [
        "print(load_breast_cancer()['DESCR'])"
      ],
      "metadata": {
        "colab": {
          "base_uri": "https://localhost:8080/"
        },
        "id": "jRPI4NXWL7bu",
        "outputId": "efe4bc56-04dc-4c94-c3ab-030b8b00482b"
      },
      "execution_count": 37,
      "outputs": [
        {
          "output_type": "stream",
          "name": "stdout",
          "text": [
            ".. _breast_cancer_dataset:\n",
            "\n",
            "Breast cancer wisconsin (diagnostic) dataset\n",
            "--------------------------------------------\n",
            "\n",
            "**Data Set Characteristics:**\n",
            "\n",
            "    :Number of Instances: 569\n",
            "\n",
            "    :Number of Attributes: 30 numeric, predictive attributes and the class\n",
            "\n",
            "    :Attribute Information:\n",
            "        - radius (mean of distances from center to points on the perimeter)\n",
            "        - texture (standard deviation of gray-scale values)\n",
            "        - perimeter\n",
            "        - area\n",
            "        - smoothness (local variation in radius lengths)\n",
            "        - compactness (perimeter^2 / area - 1.0)\n",
            "        - concavity (severity of concave portions of the contour)\n",
            "        - concave points (number of concave portions of the contour)\n",
            "        - symmetry\n",
            "        - fractal dimension (\"coastline approximation\" - 1)\n",
            "\n",
            "        The mean, standard error, and \"worst\" or largest (mean of the three\n",
            "        worst/largest values) of these features were computed for each image,\n",
            "        resulting in 30 features.  For instance, field 0 is Mean Radius, field\n",
            "        10 is Radius SE, field 20 is Worst Radius.\n",
            "\n",
            "        - class:\n",
            "                - WDBC-Malignant\n",
            "                - WDBC-Benign\n",
            "\n",
            "    :Summary Statistics:\n",
            "\n",
            "    ===================================== ====== ======\n",
            "                                           Min    Max\n",
            "    ===================================== ====== ======\n",
            "    radius (mean):                        6.981  28.11\n",
            "    texture (mean):                       9.71   39.28\n",
            "    perimeter (mean):                     43.79  188.5\n",
            "    area (mean):                          143.5  2501.0\n",
            "    smoothness (mean):                    0.053  0.163\n",
            "    compactness (mean):                   0.019  0.345\n",
            "    concavity (mean):                     0.0    0.427\n",
            "    concave points (mean):                0.0    0.201\n",
            "    symmetry (mean):                      0.106  0.304\n",
            "    fractal dimension (mean):             0.05   0.097\n",
            "    radius (standard error):              0.112  2.873\n",
            "    texture (standard error):             0.36   4.885\n",
            "    perimeter (standard error):           0.757  21.98\n",
            "    area (standard error):                6.802  542.2\n",
            "    smoothness (standard error):          0.002  0.031\n",
            "    compactness (standard error):         0.002  0.135\n",
            "    concavity (standard error):           0.0    0.396\n",
            "    concave points (standard error):      0.0    0.053\n",
            "    symmetry (standard error):            0.008  0.079\n",
            "    fractal dimension (standard error):   0.001  0.03\n",
            "    radius (worst):                       7.93   36.04\n",
            "    texture (worst):                      12.02  49.54\n",
            "    perimeter (worst):                    50.41  251.2\n",
            "    area (worst):                         185.2  4254.0\n",
            "    smoothness (worst):                   0.071  0.223\n",
            "    compactness (worst):                  0.027  1.058\n",
            "    concavity (worst):                    0.0    1.252\n",
            "    concave points (worst):               0.0    0.291\n",
            "    symmetry (worst):                     0.156  0.664\n",
            "    fractal dimension (worst):            0.055  0.208\n",
            "    ===================================== ====== ======\n",
            "\n",
            "    :Missing Attribute Values: None\n",
            "\n",
            "    :Class Distribution: 212 - Malignant, 357 - Benign\n",
            "\n",
            "    :Creator:  Dr. William H. Wolberg, W. Nick Street, Olvi L. Mangasarian\n",
            "\n",
            "    :Donor: Nick Street\n",
            "\n",
            "    :Date: November, 1995\n",
            "\n",
            "This is a copy of UCI ML Breast Cancer Wisconsin (Diagnostic) datasets.\n",
            "https://goo.gl/U2Uwz2\n",
            "\n",
            "Features are computed from a digitized image of a fine needle\n",
            "aspirate (FNA) of a breast mass.  They describe\n",
            "characteristics of the cell nuclei present in the image.\n",
            "\n",
            "Separating plane described above was obtained using\n",
            "Multisurface Method-Tree (MSM-T) [K. P. Bennett, \"Decision Tree\n",
            "Construction Via Linear Programming.\" Proceedings of the 4th\n",
            "Midwest Artificial Intelligence and Cognitive Science Society,\n",
            "pp. 97-101, 1992], a classification method which uses linear\n",
            "programming to construct a decision tree.  Relevant features\n",
            "were selected using an exhaustive search in the space of 1-4\n",
            "features and 1-3 separating planes.\n",
            "\n",
            "The actual linear program used to obtain the separating plane\n",
            "in the 3-dimensional space is that described in:\n",
            "[K. P. Bennett and O. L. Mangasarian: \"Robust Linear\n",
            "Programming Discrimination of Two Linearly Inseparable Sets\",\n",
            "Optimization Methods and Software 1, 1992, 23-34].\n",
            "\n",
            "This database is also available through the UW CS ftp server:\n",
            "\n",
            "ftp ftp.cs.wisc.edu\n",
            "cd math-prog/cpo-dataset/machine-learn/WDBC/\n",
            "\n",
            ".. topic:: References\n",
            "\n",
            "   - W.N. Street, W.H. Wolberg and O.L. Mangasarian. Nuclear feature extraction \n",
            "     for breast tumor diagnosis. IS&T/SPIE 1993 International Symposium on \n",
            "     Electronic Imaging: Science and Technology, volume 1905, pages 861-870,\n",
            "     San Jose, CA, 1993.\n",
            "   - O.L. Mangasarian, W.N. Street and W.H. Wolberg. Breast cancer diagnosis and \n",
            "     prognosis via linear programming. Operations Research, 43(4), pages 570-577, \n",
            "     July-August 1995.\n",
            "   - W.H. Wolberg, W.N. Street, and O.L. Mangasarian. Machine learning techniques\n",
            "     to diagnose breast cancer from fine-needle aspirates. Cancer Letters 77 (1994) \n",
            "     163-171.\n"
          ]
        }
      ]
    },
    {
      "cell_type": "markdown",
      "source": [
        "Lunr"
      ],
      "metadata": {
        "id": "3JB2brQpMwv8"
      }
    },
    {
      "cell_type": "code",
      "source": [
        "import pandas as pd\n",
        "\n",
        "df = pd.read_csv(\"https://calmcode.io/static/data/clinc.csv\").assign(idx=lambda d: d.index)\n",
        "df.sample(3)"
      ],
      "metadata": {
        "colab": {
          "base_uri": "https://localhost:8080/",
          "height": 143
        },
        "id": "KKoKaoSQMzT3",
        "outputId": "5c89db2f-f629-48aa-b76a-cba84f95a3d5"
      },
      "execution_count": 43,
      "outputs": [
        {
          "output_type": "execute_result",
          "data": {
            "text/plain": [
              "                                                    text                label  \\\n",
              "18922                  making ribs perfectly is done how               recipe   \n",
              "13219  i wanna know the exchange rate between yen and...        exchange_rate   \n",
              "16813  can i increase my credit limit from 1000 to 20...  credit_limit_change   \n",
              "\n",
              "         idx  \n",
              "18922  18922  \n",
              "13219  13219  \n",
              "16813  16813  "
            ],
            "text/html": [
              "\n",
              "  <div id=\"df-62e867b6-826d-428d-9884-2ef8472cc4cb\" class=\"colab-df-container\">\n",
              "    <div>\n",
              "<style scoped>\n",
              "    .dataframe tbody tr th:only-of-type {\n",
              "        vertical-align: middle;\n",
              "    }\n",
              "\n",
              "    .dataframe tbody tr th {\n",
              "        vertical-align: top;\n",
              "    }\n",
              "\n",
              "    .dataframe thead th {\n",
              "        text-align: right;\n",
              "    }\n",
              "</style>\n",
              "<table border=\"1\" class=\"dataframe\">\n",
              "  <thead>\n",
              "    <tr style=\"text-align: right;\">\n",
              "      <th></th>\n",
              "      <th>text</th>\n",
              "      <th>label</th>\n",
              "      <th>idx</th>\n",
              "    </tr>\n",
              "  </thead>\n",
              "  <tbody>\n",
              "    <tr>\n",
              "      <th>18922</th>\n",
              "      <td>making ribs perfectly is done how</td>\n",
              "      <td>recipe</td>\n",
              "      <td>18922</td>\n",
              "    </tr>\n",
              "    <tr>\n",
              "      <th>13219</th>\n",
              "      <td>i wanna know the exchange rate between yen and...</td>\n",
              "      <td>exchange_rate</td>\n",
              "      <td>13219</td>\n",
              "    </tr>\n",
              "    <tr>\n",
              "      <th>16813</th>\n",
              "      <td>can i increase my credit limit from 1000 to 20...</td>\n",
              "      <td>credit_limit_change</td>\n",
              "      <td>16813</td>\n",
              "    </tr>\n",
              "  </tbody>\n",
              "</table>\n",
              "</div>\n",
              "    <div class=\"colab-df-buttons\">\n",
              "\n",
              "  <div class=\"colab-df-container\">\n",
              "    <button class=\"colab-df-convert\" onclick=\"convertToInteractive('df-62e867b6-826d-428d-9884-2ef8472cc4cb')\"\n",
              "            title=\"Convert this dataframe to an interactive table.\"\n",
              "            style=\"display:none;\">\n",
              "\n",
              "  <svg xmlns=\"http://www.w3.org/2000/svg\" height=\"24px\" viewBox=\"0 -960 960 960\">\n",
              "    <path d=\"M120-120v-720h720v720H120Zm60-500h600v-160H180v160Zm220 220h160v-160H400v160Zm0 220h160v-160H400v160ZM180-400h160v-160H180v160Zm440 0h160v-160H620v160ZM180-180h160v-160H180v160Zm440 0h160v-160H620v160Z\"/>\n",
              "  </svg>\n",
              "    </button>\n",
              "\n",
              "  <style>\n",
              "    .colab-df-container {\n",
              "      display:flex;\n",
              "      gap: 12px;\n",
              "    }\n",
              "\n",
              "    .colab-df-convert {\n",
              "      background-color: #E8F0FE;\n",
              "      border: none;\n",
              "      border-radius: 50%;\n",
              "      cursor: pointer;\n",
              "      display: none;\n",
              "      fill: #1967D2;\n",
              "      height: 32px;\n",
              "      padding: 0 0 0 0;\n",
              "      width: 32px;\n",
              "    }\n",
              "\n",
              "    .colab-df-convert:hover {\n",
              "      background-color: #E2EBFA;\n",
              "      box-shadow: 0px 1px 2px rgba(60, 64, 67, 0.3), 0px 1px 3px 1px rgba(60, 64, 67, 0.15);\n",
              "      fill: #174EA6;\n",
              "    }\n",
              "\n",
              "    .colab-df-buttons div {\n",
              "      margin-bottom: 4px;\n",
              "    }\n",
              "\n",
              "    [theme=dark] .colab-df-convert {\n",
              "      background-color: #3B4455;\n",
              "      fill: #D2E3FC;\n",
              "    }\n",
              "\n",
              "    [theme=dark] .colab-df-convert:hover {\n",
              "      background-color: #434B5C;\n",
              "      box-shadow: 0px 1px 3px 1px rgba(0, 0, 0, 0.15);\n",
              "      filter: drop-shadow(0px 1px 2px rgba(0, 0, 0, 0.3));\n",
              "      fill: #FFFFFF;\n",
              "    }\n",
              "  </style>\n",
              "\n",
              "    <script>\n",
              "      const buttonEl =\n",
              "        document.querySelector('#df-62e867b6-826d-428d-9884-2ef8472cc4cb button.colab-df-convert');\n",
              "      buttonEl.style.display =\n",
              "        google.colab.kernel.accessAllowed ? 'block' : 'none';\n",
              "\n",
              "      async function convertToInteractive(key) {\n",
              "        const element = document.querySelector('#df-62e867b6-826d-428d-9884-2ef8472cc4cb');\n",
              "        const dataTable =\n",
              "          await google.colab.kernel.invokeFunction('convertToInteractive',\n",
              "                                                    [key], {});\n",
              "        if (!dataTable) return;\n",
              "\n",
              "        const docLinkHtml = 'Like what you see? Visit the ' +\n",
              "          '<a target=\"_blank\" href=https://colab.research.google.com/notebooks/data_table.ipynb>data table notebook</a>'\n",
              "          + ' to learn more about interactive tables.';\n",
              "        element.innerHTML = '';\n",
              "        dataTable['output_type'] = 'display_data';\n",
              "        await google.colab.output.renderOutput(dataTable, element);\n",
              "        const docLink = document.createElement('div');\n",
              "        docLink.innerHTML = docLinkHtml;\n",
              "        element.appendChild(docLink);\n",
              "      }\n",
              "    </script>\n",
              "  </div>\n",
              "\n",
              "\n",
              "<div id=\"df-a6dbbbc2-34ae-4d26-a93b-2cd55cad60d4\">\n",
              "  <button class=\"colab-df-quickchart\" onclick=\"quickchart('df-a6dbbbc2-34ae-4d26-a93b-2cd55cad60d4')\"\n",
              "            title=\"Suggest charts\"\n",
              "            style=\"display:none;\">\n",
              "\n",
              "<svg xmlns=\"http://www.w3.org/2000/svg\" height=\"24px\"viewBox=\"0 0 24 24\"\n",
              "     width=\"24px\">\n",
              "    <g>\n",
              "        <path d=\"M19 3H5c-1.1 0-2 .9-2 2v14c0 1.1.9 2 2 2h14c1.1 0 2-.9 2-2V5c0-1.1-.9-2-2-2zM9 17H7v-7h2v7zm4 0h-2V7h2v10zm4 0h-2v-4h2v4z\"/>\n",
              "    </g>\n",
              "</svg>\n",
              "  </button>\n",
              "\n",
              "<style>\n",
              "  .colab-df-quickchart {\n",
              "      --bg-color: #E8F0FE;\n",
              "      --fill-color: #1967D2;\n",
              "      --hover-bg-color: #E2EBFA;\n",
              "      --hover-fill-color: #174EA6;\n",
              "      --disabled-fill-color: #AAA;\n",
              "      --disabled-bg-color: #DDD;\n",
              "  }\n",
              "\n",
              "  [theme=dark] .colab-df-quickchart {\n",
              "      --bg-color: #3B4455;\n",
              "      --fill-color: #D2E3FC;\n",
              "      --hover-bg-color: #434B5C;\n",
              "      --hover-fill-color: #FFFFFF;\n",
              "      --disabled-bg-color: #3B4455;\n",
              "      --disabled-fill-color: #666;\n",
              "  }\n",
              "\n",
              "  .colab-df-quickchart {\n",
              "    background-color: var(--bg-color);\n",
              "    border: none;\n",
              "    border-radius: 50%;\n",
              "    cursor: pointer;\n",
              "    display: none;\n",
              "    fill: var(--fill-color);\n",
              "    height: 32px;\n",
              "    padding: 0;\n",
              "    width: 32px;\n",
              "  }\n",
              "\n",
              "  .colab-df-quickchart:hover {\n",
              "    background-color: var(--hover-bg-color);\n",
              "    box-shadow: 0 1px 2px rgba(60, 64, 67, 0.3), 0 1px 3px 1px rgba(60, 64, 67, 0.15);\n",
              "    fill: var(--button-hover-fill-color);\n",
              "  }\n",
              "\n",
              "  .colab-df-quickchart-complete:disabled,\n",
              "  .colab-df-quickchart-complete:disabled:hover {\n",
              "    background-color: var(--disabled-bg-color);\n",
              "    fill: var(--disabled-fill-color);\n",
              "    box-shadow: none;\n",
              "  }\n",
              "\n",
              "  .colab-df-spinner {\n",
              "    border: 2px solid var(--fill-color);\n",
              "    border-color: transparent;\n",
              "    border-bottom-color: var(--fill-color);\n",
              "    animation:\n",
              "      spin 1s steps(1) infinite;\n",
              "  }\n",
              "\n",
              "  @keyframes spin {\n",
              "    0% {\n",
              "      border-color: transparent;\n",
              "      border-bottom-color: var(--fill-color);\n",
              "      border-left-color: var(--fill-color);\n",
              "    }\n",
              "    20% {\n",
              "      border-color: transparent;\n",
              "      border-left-color: var(--fill-color);\n",
              "      border-top-color: var(--fill-color);\n",
              "    }\n",
              "    30% {\n",
              "      border-color: transparent;\n",
              "      border-left-color: var(--fill-color);\n",
              "      border-top-color: var(--fill-color);\n",
              "      border-right-color: var(--fill-color);\n",
              "    }\n",
              "    40% {\n",
              "      border-color: transparent;\n",
              "      border-right-color: var(--fill-color);\n",
              "      border-top-color: var(--fill-color);\n",
              "    }\n",
              "    60% {\n",
              "      border-color: transparent;\n",
              "      border-right-color: var(--fill-color);\n",
              "    }\n",
              "    80% {\n",
              "      border-color: transparent;\n",
              "      border-right-color: var(--fill-color);\n",
              "      border-bottom-color: var(--fill-color);\n",
              "    }\n",
              "    90% {\n",
              "      border-color: transparent;\n",
              "      border-bottom-color: var(--fill-color);\n",
              "    }\n",
              "  }\n",
              "</style>\n",
              "\n",
              "  <script>\n",
              "    async function quickchart(key) {\n",
              "      const quickchartButtonEl =\n",
              "        document.querySelector('#' + key + ' button');\n",
              "      quickchartButtonEl.disabled = true;  // To prevent multiple clicks.\n",
              "      quickchartButtonEl.classList.add('colab-df-spinner');\n",
              "      try {\n",
              "        const charts = await google.colab.kernel.invokeFunction(\n",
              "            'suggestCharts', [key], {});\n",
              "      } catch (error) {\n",
              "        console.error('Error during call to suggestCharts:', error);\n",
              "      }\n",
              "      quickchartButtonEl.classList.remove('colab-df-spinner');\n",
              "      quickchartButtonEl.classList.add('colab-df-quickchart-complete');\n",
              "    }\n",
              "    (() => {\n",
              "      let quickchartButtonEl =\n",
              "        document.querySelector('#df-a6dbbbc2-34ae-4d26-a93b-2cd55cad60d4 button');\n",
              "      quickchartButtonEl.style.display =\n",
              "        google.colab.kernel.accessAllowed ? 'block' : 'none';\n",
              "    })();\n",
              "  </script>\n",
              "</div>\n",
              "    </div>\n",
              "  </div>\n"
            ],
            "application/vnd.google.colaboratory.intrinsic+json": {
              "type": "dataframe",
              "summary": "{\n  \"name\": \"df\",\n  \"rows\": 3,\n  \"fields\": [\n    {\n      \"column\": \"text\",\n      \"properties\": {\n        \"dtype\": \"string\",\n        \"num_unique_values\": 3,\n        \"samples\": [\n          \"making ribs perfectly is done how\",\n          \"i wanna know the exchange rate between yen and dollars\",\n          \"can i increase my credit limit from 1000 to 2000 please\"\n        ],\n        \"semantic_type\": \"\",\n        \"description\": \"\"\n      }\n    },\n    {\n      \"column\": \"label\",\n      \"properties\": {\n        \"dtype\": \"string\",\n        \"num_unique_values\": 3,\n        \"samples\": [\n          \"recipe\",\n          \"exchange_rate\",\n          \"credit_limit_change\"\n        ],\n        \"semantic_type\": \"\",\n        \"description\": \"\"\n      }\n    },\n    {\n      \"column\": \"idx\",\n      \"properties\": {\n        \"dtype\": \"number\",\n        \"std\": 2883,\n        \"min\": 13219,\n        \"max\": 18922,\n        \"num_unique_values\": 3,\n        \"samples\": [\n          18922,\n          13219,\n          16813\n        ],\n        \"semantic_type\": \"\",\n        \"description\": \"\"\n      }\n    }\n  ]\n}"
            }
          },
          "metadata": {},
          "execution_count": 43
        }
      ]
    },
    {
      "cell_type": "markdown",
      "source": [
        "assign(idx=lambda d: d.index)\n",
        "assign:  create new columns in a DataFrame based on existing columns or other data. The assign function returns a new DataFrame with the added columns, so it does not modify the original DataFrame in place.\n",
        "idx=lambda: the new column named \"idx\".\n",
        "lambda: Lambda functions are often used when you need a simple function for a short period of time and you don't want to formally define a separate function using the def keyword.\n",
        "idx=lambda d: d.index: takes each row (d) and returns its index."
      ],
      "metadata": {
        "id": "WtKPeP8vE2gK"
      }
    },
    {
      "cell_type": "code",
      "source": [
        "documents = df.to_dict(orient=\"records\")"
      ],
      "metadata": {
        "id": "yXnMPJuJGPtQ"
      },
      "execution_count": 44,
      "outputs": []
    },
    {
      "cell_type": "markdown",
      "source": [
        ".to_dict(orient=\"records\")：converts the DataFrame into a dictionary.\n",
        "orient=\"records：it creates a list where each element is a dictionary representing a row in the DataFrame."
      ],
      "metadata": {
        "id": "BPmCVwRUHaog"
      }
    },
    {
      "cell_type": "code",
      "source": [
        "pip install lunr"
      ],
      "metadata": {
        "colab": {
          "base_uri": "https://localhost:8080/"
        },
        "id": "_UMIWbReH7on",
        "outputId": "91e91add-73e5-47f4-85a0-c29f38afc68f"
      },
      "execution_count": 46,
      "outputs": [
        {
          "output_type": "stream",
          "name": "stdout",
          "text": [
            "Collecting lunr\n",
            "  Downloading lunr-0.7.0.post1-py3-none-any.whl (35 kB)\n",
            "Installing collected packages: lunr\n",
            "Successfully installed lunr-0.7.0.post1\n"
          ]
        }
      ]
    },
    {
      "cell_type": "code",
      "source": [
        "from lunr import lunr\n",
        "\n",
        "index = lunr(ref='idx', fields=('text',), documents=documents)"
      ],
      "metadata": {
        "id": "Hp-2n7B-Hr1L"
      },
      "execution_count": 47,
      "outputs": []
    },
    {
      "cell_type": "markdown",
      "source": [
        "The lunr function has three parameters.\n",
        "\n",
        "ref is the key in the documents to be used sa the reference.\n",
        "fields is a sequence of keys to index from the documents.\n",
        "documents is the list of dictionaries that resemble the documents to be indexed."
      ],
      "metadata": {
        "id": "RzwJEOb0JlX5"
      }
    },
    {
      "cell_type": "markdown",
      "source": [
        "ref='idx': This specifies the key in each document dictionary that Lunr should use as a reference.\n",
        "fields=('text',): This parameter specifies which fields in the documents Lunr should index for search."
      ],
      "metadata": {
        "id": "rwmtEBQfJLQs"
      }
    },
    {
      "cell_type": "code",
      "source": [
        "index.search('spanish')"
      ],
      "metadata": {
        "colab": {
          "base_uri": "https://localhost:8080/"
        },
        "id": "G9KfimVaJf9C",
        "outputId": "fc134c07-15d5-4579-94c0-47cfaa4f4cce"
      },
      "execution_count": 48,
      "outputs": [
        {
          "output_type": "execute_result",
          "data": {
            "text/plain": [
              "[{'ref': '4501', 'score': 7.801, 'match_data': <MatchData \"spanish\">},\n",
              " {'ref': '3', 'score': 7.62, 'match_data': <MatchData \"spanish\">},\n",
              " {'ref': '26', 'score': 7.62, 'match_data': <MatchData \"spanish\">},\n",
              " {'ref': '27', 'score': 7.62, 'match_data': <MatchData \"spanish\">},\n",
              " {'ref': '28', 'score': 7.62, 'match_data': <MatchData \"spanish\">},\n",
              " {'ref': '4526', 'score': 7.62, 'match_data': <MatchData \"spanish\">},\n",
              " {'ref': '4529', 'score': 7.62, 'match_data': <MatchData \"spanish\">},\n",
              " {'ref': '4556', 'score': 7.62, 'match_data': <MatchData \"spanish\">},\n",
              " {'ref': '4573', 'score': 7.62, 'match_data': <MatchData \"spanish\">},\n",
              " {'ref': '4575', 'score': 7.62, 'match_data': <MatchData \"spanish\">},\n",
              " {'ref': '4576', 'score': 7.62, 'match_data': <MatchData \"spanish\">},\n",
              " {'ref': '4585', 'score': 7.62, 'match_data': <MatchData \"spanish\">},\n",
              " {'ref': '5638', 'score': 7.62, 'match_data': <MatchData \"spanish\">},\n",
              " {'ref': '19505', 'score': 7.62, 'match_data': <MatchData \"spanish\">},\n",
              " {'ref': '19507', 'score': 7.62, 'match_data': <MatchData \"spanish\">},\n",
              " {'ref': '25', 'score': 6.767, 'match_data': <MatchData \"spanish\">},\n",
              " {'ref': '334', 'score': 6.767, 'match_data': <MatchData \"spanish\">},\n",
              " {'ref': '342', 'score': 6.767, 'match_data': <MatchData \"spanish\">},\n",
              " {'ref': '348', 'score': 6.767, 'match_data': <MatchData \"spanish\">},\n",
              " {'ref': '350', 'score': 6.767, 'match_data': <MatchData \"spanish\">},\n",
              " {'ref': '4546', 'score': 6.767, 'match_data': <MatchData \"spanish\">},\n",
              " {'ref': '4550', 'score': 6.767, 'match_data': <MatchData \"spanish\">},\n",
              " {'ref': '4559', 'score': 6.767, 'match_data': <MatchData \"spanish\">},\n",
              " {'ref': '4574', 'score': 6.767, 'match_data': <MatchData \"spanish\">},\n",
              " {'ref': '4577', 'score': 6.767, 'match_data': <MatchData \"spanish\">},\n",
              " {'ref': '4579', 'score': 6.767, 'match_data': <MatchData \"spanish\">},\n",
              " {'ref': '4595', 'score': 6.767, 'match_data': <MatchData \"spanish\">},\n",
              " {'ref': '4598', 'score': 6.767, 'match_data': <MatchData \"spanish\">},\n",
              " {'ref': '5619', 'score': 6.767, 'match_data': <MatchData \"spanish\">},\n",
              " {'ref': '5627', 'score': 6.767, 'match_data': <MatchData \"spanish\">},\n",
              " {'ref': '5639', 'score': 6.767, 'match_data': <MatchData \"spanish\">},\n",
              " {'ref': '5640', 'score': 6.767, 'match_data': <MatchData \"spanish\">},\n",
              " {'ref': '5644', 'score': 6.767, 'match_data': <MatchData \"spanish\">},\n",
              " {'ref': '5654', 'score': 6.767, 'match_data': <MatchData \"spanish\">},\n",
              " {'ref': '5672', 'score': 6.767, 'match_data': <MatchData \"spanish\">},\n",
              " {'ref': '19500', 'score': 6.767, 'match_data': <MatchData \"spanish\">},\n",
              " {'ref': '1', 'score': 6.085, 'match_data': <MatchData \"spanish\">},\n",
              " {'ref': '12', 'score': 6.085, 'match_data': <MatchData \"spanish\">},\n",
              " {'ref': '29', 'score': 6.085, 'match_data': <MatchData \"spanish\">},\n",
              " {'ref': '343', 'score': 6.085, 'match_data': <MatchData \"spanish\">},\n",
              " {'ref': '4510', 'score': 6.085, 'match_data': <MatchData \"spanish\">},\n",
              " {'ref': '4527', 'score': 6.085, 'match_data': <MatchData \"spanish\">},\n",
              " {'ref': '4543', 'score': 6.085, 'match_data': <MatchData \"spanish\">},\n",
              " {'ref': '4592', 'score': 6.085, 'match_data': <MatchData \"spanish\">},\n",
              " {'ref': '5604', 'score': 6.085, 'match_data': <MatchData \"spanish\">},\n",
              " {'ref': '5618', 'score': 6.085, 'match_data': <MatchData \"spanish\">},\n",
              " {'ref': '5621', 'score': 6.085, 'match_data': <MatchData \"spanish\">},\n",
              " {'ref': '5625', 'score': 6.085, 'match_data': <MatchData \"spanish\">},\n",
              " {'ref': '5647', 'score': 6.085, 'match_data': <MatchData \"spanish\">},\n",
              " {'ref': '5664', 'score': 6.085, 'match_data': <MatchData \"spanish\">},\n",
              " {'ref': '18182', 'score': 6.085, 'match_data': <MatchData \"spanish\">},\n",
              " {'ref': '19517', 'score': 6.085, 'match_data': <MatchData \"spanish\">},\n",
              " {'ref': '19727', 'score': 6.085, 'match_data': <MatchData \"spanish\">},\n",
              " {'ref': '5611', 'score': 5.528, 'match_data': <MatchData \"spanish\">},\n",
              " {'ref': '5692', 'score': 5.528, 'match_data': <MatchData \"spanish\">},\n",
              " {'ref': '5697', 'score': 5.528, 'match_data': <MatchData \"spanish\">},\n",
              " {'ref': '19726', 'score': 5.065, 'match_data': <MatchData \"spanish\">}]"
            ]
          },
          "metadata": {},
          "execution_count": 48
        }
      ]
    },
    {
      "cell_type": "markdown",
      "source": [
        " index.search('spanish'): Lunr searches through the indexed documents to find matches for the term \"spanish\". It returns the results of the search, typically as a list of objects representing the matching documents, along with their relevance scores."
      ],
      "metadata": {
        "id": "Zh_yT3e4NrWt"
      }
    },
    {
      "cell_type": "code",
      "source": [
        "[documents[int(i['ref'])] for i in index.search('spanish')]"
      ],
      "metadata": {
        "colab": {
          "base_uri": "https://localhost:8080/"
        },
        "id": "ptK5Bl3qNVxt",
        "outputId": "8015d9de-162e-4367-ef82-eedf2a6d340e"
      },
      "execution_count": 49,
      "outputs": [
        {
          "output_type": "execute_result",
          "data": {
            "text/plain": [
              "[{'text': \"can you tell me how to say 'i do not speak much spanish', in spanish\",\n",
              "  'label': 'translate',\n",
              "  'idx': 4501},\n",
              " {'text': 'how do you say fast in spanish', 'label': 'translate', 'idx': 3},\n",
              " {'text': 'what is dog in spanish', 'label': 'translate', 'idx': 26},\n",
              " {'text': 'how do you say dog in spanish', 'label': 'translate', 'idx': 27},\n",
              " {'text': 'dog in spanish', 'label': 'translate', 'idx': 28},\n",
              " {'text': 'how can i say not now in spanish',\n",
              "  'label': 'translate',\n",
              "  'idx': 4526},\n",
              " {'text': 'how do you say goodbye in spanish',\n",
              "  'label': 'translate',\n",
              "  'idx': 4529},\n",
              " {'text': 'what is spanish for hello', 'label': 'translate', 'idx': 4556},\n",
              " {'text': 'how do you say thank you in spanish',\n",
              "  'label': 'translate',\n",
              "  'idx': 4573},\n",
              " {'text': 'how can i say thank you in spanish',\n",
              "  'label': 'translate',\n",
              "  'idx': 4575},\n",
              " {'text': 'what is thank you in spanish', 'label': 'translate', 'idx': 4576},\n",
              " {'text': 'how do you say cat in spanish', 'label': 'translate', 'idx': 4585},\n",
              " {'text': 'can you talk in spanish', 'label': 'change_language', 'idx': 5638},\n",
              " {'text': 'how do i say dinner in spanish',\n",
              "  'label': 'translate',\n",
              "  'idx': 19505},\n",
              " {'text': 'how do i say thank you in spanish',\n",
              "  'label': 'translate',\n",
              "  'idx': 19507},\n",
              " {'text': 'english to spanish for dog', 'label': 'translate', 'idx': 25},\n",
              " {'text': 'speak spanish please', 'label': 'change_language', 'idx': 334},\n",
              " {'text': 'i want to use spanish with you',\n",
              "  'label': 'change_language',\n",
              "  'idx': 342},\n",
              " {'text': \"i'd like the language to be in spanish\",\n",
              "  'label': 'change_language',\n",
              "  'idx': 348},\n",
              " {'text': 'can i speak spanish to you hombre',\n",
              "  'label': 'change_language',\n",
              "  'idx': 350},\n",
              " {'text': 'what is the word for hello spanish',\n",
              "  'label': 'translate',\n",
              "  'idx': 4546},\n",
              " {'text': 'tell me how to say hello in spanish',\n",
              "  'label': 'translate',\n",
              "  'idx': 4550},\n",
              " {'text': 'what is spanish for good morning',\n",
              "  'label': 'translate',\n",
              "  'idx': 4559},\n",
              " {'text': 'how does one say thank you in spanish',\n",
              "  'label': 'translate',\n",
              "  'idx': 4574},\n",
              " {'text': 'what is the way to say thank you in spanish',\n",
              "  'label': 'translate',\n",
              "  'idx': 4577},\n",
              " {'text': 'how do they say \"where\\'s the bathroom\" in spanish',\n",
              "  'label': 'translate',\n",
              "  'idx': 4579},\n",
              " {'text': 'can you translate hi into spanish for me',\n",
              "  'label': 'translate',\n",
              "  'idx': 4595},\n",
              " {'text': 'can you translate milk into spanish for me',\n",
              "  'label': 'translate',\n",
              "  'idx': 4598},\n",
              " {'text': 'fix my language to spanish',\n",
              "  'label': 'change_language',\n",
              "  'idx': 5619},\n",
              " {'text': 'please respond to me in spanish',\n",
              "  'label': 'change_language',\n",
              "  'idx': 5627},\n",
              " {'text': 'can i start talking to you in spanish',\n",
              "  'label': 'change_language',\n",
              "  'idx': 5639},\n",
              " {'text': 'please talk to me in spanish',\n",
              "  'label': 'change_language',\n",
              "  'idx': 5640},\n",
              " {'text': 'talk to me in spanish from now on',\n",
              "  'label': 'change_language',\n",
              "  'idx': 5644},\n",
              " {'text': 'is it possible to only talk in spanish',\n",
              "  'label': 'change_language',\n",
              "  'idx': 5654},\n",
              " {'text': 'start talking in spanish', 'label': 'change_language', 'idx': 5672},\n",
              " {'text': 'in spanish, meet me tomorrow is said how',\n",
              "  'label': 'translate',\n",
              "  'idx': 19500},\n",
              " {'text': \"what's the spanish word for pasta\", 'label': 'translate', 'idx': 1},\n",
              " {'text': 'what is the right way to say excuse me in spanish',\n",
              "  'label': 'translate',\n",
              "  'idx': 12},\n",
              " {'text': \"what's the spanish word for dog\", 'label': 'translate', 'idx': 29},\n",
              " {'text': \"please let's speak in spanish\",\n",
              "  'label': 'change_language',\n",
              "  'idx': 343},\n",
              " {'text': \"how would i say, 'i don't know the answer' in spanish\",\n",
              "  'label': 'translate',\n",
              "  'idx': 4510},\n",
              " {'text': 'what do spanish people say for the word cow',\n",
              "  'label': 'translate',\n",
              "  'idx': 4527},\n",
              " {'text': 'what spanish word means hello', 'label': 'translate', 'idx': 4543},\n",
              " {'text': 'i wanna know a phrase in spanish',\n",
              "  'label': 'translate',\n",
              "  'idx': 4592},\n",
              " {'text': 'i would like to have language set to spanish, please',\n",
              "  'label': 'change_language',\n",
              "  'idx': 5604},\n",
              " {'text': 'i need to change language to spanish',\n",
              "  'label': 'change_language',\n",
              "  'idx': 5618},\n",
              " {'text': 'i need to change my speaking to spanish',\n",
              "  'label': 'change_language',\n",
              "  'idx': 5621},\n",
              " {'text': 'change your language to spanish please',\n",
              "  'label': 'change_language',\n",
              "  'idx': 5625},\n",
              " {'text': 'i want to use spanish as my language',\n",
              "  'label': 'change_language',\n",
              "  'idx': 5647},\n",
              " {'text': 'let’s chat using spanish', 'label': 'change_language', 'idx': 5664},\n",
              " {'text': 'add mia to my spanish playlist',\n",
              "  'label': 'update_playlist',\n",
              "  'idx': 18182},\n",
              " {'text': 'can you translate this name into spanish for me, please',\n",
              "  'label': 'translate',\n",
              "  'idx': 19517},\n",
              " {'text': 'change your language setting to spanish',\n",
              "  'label': 'change_language',\n",
              "  'idx': 19727},\n",
              " {'text': 'i want us to speak to each other in spanish from now on',\n",
              "  'label': 'change_language',\n",
              "  'idx': 5611},\n",
              " {'text': 'can you start talking to me in spanish from here on out',\n",
              "  'label': 'change_language',\n",
              "  'idx': 5692},\n",
              " {'text': 'please change your language setting to spanish',\n",
              "  'label': 'change_language',\n",
              "  'idx': 5697},\n",
              " {'text': 'please change your language setting to spanish now',\n",
              "  'label': 'change_language',\n",
              "  'idx': 19726}]"
            ]
          },
          "metadata": {},
          "execution_count": 49
        }
      ]
    },
    {
      "cell_type": "markdown",
      "source": [
        "The final result is a list containing the actual documents that match the search query \"spanish\" based on the results obtained from the Lunr index search. Each element in the list represents a matching document."
      ],
      "metadata": {
        "id": "UlbylthPOXgm"
      }
    },
    {
      "cell_type": "markdown",
      "source": [
        "Saving and Loading"
      ],
      "metadata": {
        "id": "luOroWmjOh1T"
      }
    },
    {
      "cell_type": "code",
      "source": [
        "import json\n",
        "from lunr.index import Index\n",
        "\n",
        "serialized = index.serialize()\n",
        "\n",
        "# Save the index\n",
        "with open('idx.json', 'w') as fd:\n",
        "    json.dump(serialized, fd)\n",
        "\n",
        "# Load it again\n",
        "with open(\"idx.json\") as fd:\n",
        "    reloaded = json.loads(fd.read())\n",
        "\n",
        "idx = Index.load(reloaded)\n",
        "idx.search(\"plant\")"
      ],
      "metadata": {
        "colab": {
          "base_uri": "https://localhost:8080/"
        },
        "id": "a-S0KdC9OcbI",
        "outputId": "6f916fe9-bb08-4214-8a4a-89d77fd3f056"
      },
      "execution_count": 51,
      "outputs": [
        {
          "output_type": "execute_result",
          "data": {
            "text/plain": [
              "[{'ref': '11998', 'score': 9.056, 'match_data': <MatchData \"plant\">},\n",
              " {'ref': '9435', 'score': 8.144, 'match_data': <MatchData \"plant\">},\n",
              " {'ref': '2097', 'score': 7.399, 'match_data': <MatchData \"plant\">},\n",
              " {'ref': '9433', 'score': 7.399, 'match_data': <MatchData \"plant\">},\n",
              " {'ref': '23246', 'score': 7.399, 'match_data': <MatchData \"plant\">},\n",
              " {'ref': '9439', 'score': 6.778, 'match_data': <MatchData \"plant\">},\n",
              " {'ref': '19441', 'score': 6.254, 'match_data': <MatchData \"plant\">}]"
            ]
          },
          "metadata": {},
          "execution_count": 51
        }
      ]
    },
    {
      "cell_type": "markdown",
      "source": [
        "Benchmark"
      ],
      "metadata": {
        "id": "C9mjQUavQDaE"
      }
    },
    {
      "cell_type": "code",
      "source": [
        "%timeit df.loc[lambda d: d['text'].str.contains(\"spanish\")]"
      ],
      "metadata": {
        "colab": {
          "base_uri": "https://localhost:8080/"
        },
        "id": "dZQBUtFPO-Zx",
        "outputId": "f5904f13-1baa-4a9b-9941-89f2dd5bd7b6"
      },
      "execution_count": 52,
      "outputs": [
        {
          "output_type": "stream",
          "name": "stdout",
          "text": [
            "20.2 ms ± 817 µs per loop (mean ± std. dev. of 7 runs, 10 loops each)\n"
          ]
        }
      ]
    },
    {
      "cell_type": "code",
      "source": [
        "%timeit [d for d in documents if 'spanish' in d['text']]"
      ],
      "metadata": {
        "id": "n_9tquFhQNXt",
        "outputId": "646028a2-b734-4a6a-c070-d9abdc30e2b0",
        "colab": {
          "base_uri": "https://localhost:8080/"
        }
      },
      "execution_count": 53,
      "outputs": [
        {
          "output_type": "stream",
          "name": "stdout",
          "text": [
            "4.47 ms ± 1.7 ms per loop (mean ± std. dev. of 7 runs, 100 loops each)\n"
          ]
        }
      ]
    },
    {
      "cell_type": "code",
      "source": [
        "%timeit index.search('spanish')"
      ],
      "metadata": {
        "id": "0-MfHpIOQR8F",
        "outputId": "5d743195-656c-435c-d97e-cc86ab737dde",
        "colab": {
          "base_uri": "https://localhost:8080/"
        }
      },
      "execution_count": 54,
      "outputs": [
        {
          "output_type": "stream",
          "name": "stdout",
          "text": [
            "1.1 ms ± 440 µs per loop (mean ± std. dev. of 7 runs, 1000 loops each)\n"
          ]
        }
      ]
    },
    {
      "cell_type": "code",
      "source": [
        "%timeit [documents[int(i['ref'])] for i in index.search('spanish')]"
      ],
      "metadata": {
        "id": "2aZu4SJtQUl8",
        "outputId": "faf51d0b-06d8-44ba-8d5a-dc67abfaa953",
        "colab": {
          "base_uri": "https://localhost:8080/"
        }
      },
      "execution_count": 55,
      "outputs": [
        {
          "output_type": "stream",
          "name": "stdout",
          "text": [
            "748 µs ± 149 µs per loop (mean ± std. dev. of 7 runs, 1000 loops each)\n"
          ]
        }
      ]
    }
  ]
}